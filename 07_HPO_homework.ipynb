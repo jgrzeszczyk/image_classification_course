{
 "cells": [
  {
   "cell_type": "markdown",
   "metadata": {},
   "source": [
    "# DDPLKO Moduł 7 - praca domowa - HPO\n",
    "\n",
    "To siódma praca domowa w Programie szkoleniowym Klasyfikacja obrazu od Deep Drive PL\n",
    "\n",
    "Twoim zadaniem w tym module będzie jendo z 2:\n",
    "\n",
    "Opcja 1:\n",
    "- [ ] Na bazie pracy domowej z Transfer learningiem, data augmentation\n",
    "- [ ] Wykorzystaj HPO (np. Optunę, Hyperopta bądź KerasTuner) by dobrać parametry treningu (optymalizator, LR), data augmentation (zakresy wartości)\n",
    "- [ ] Udostępnij wykres na Discordzie `#klasyfikacja-wyniki` (val acc - porównanie model przed i po HPO)\n",
    "\n",
    "Opcja 2 (mniejsza moc obliczeniowa):\n",
    "- [ ] Na bazie pracy domowej ze zbiorem **QuickDraw**\n",
    "- [ ] Wykorzystaj HPO (np. Optunę, Hyperopta bądź KerasTuner) by dobrać parametry treningu (optymalizator, LR), i architektury sieci (liczba warstw, dropout, pooling)\n",
    "- [ ] Pracuj na podzbiorze max 100k przykładów\n",
    "- [ ] Udostępnij wykres na Discordzie `#klasyfikacja-wyniki` (val acc - porównanie model przed i po HPO)\n",
    "\n",
    "Możesz extra (czyli opcjonalne rzeczy):\n",
    "- Spróbować użyć AutoKeras by znaleźć architekturę dla problemu"
   ]
  },
  {
   "cell_type": "markdown",
   "metadata": {},
   "source": [
    "## Quickdraw 10 class dataset preparation"
   ]
  },
  {
   "cell_type": "code",
   "execution_count": 28,
   "metadata": {},
   "outputs": [],
   "source": [
    "import urllib\n",
    "import numpy as np\n",
    "import matplotlib.pyplot as plt\n",
    "import os"
   ]
  },
  {
   "cell_type": "code",
   "execution_count": 29,
   "metadata": {},
   "outputs": [],
   "source": [
    "class_names=['donut', 'alarm clock', 'baseball', 'blueberry', 'cookie', \n",
    "             'compass', 'hamburger', 'soccer ball', 'wheel', 'watermelon']"
   ]
  },
  {
   "cell_type": "code",
   "execution_count": 30,
   "metadata": {},
   "outputs": [],
   "source": [
    "for name in class_names:\n",
    "    url = 'https://storage.googleapis.com/quickdraw_dataset/full/numpy_bitmap/%s.npy'%name\n",
    "    file_name = url.split('/')[-1].split('?')[0]\n",
    "\n",
    "    url = url.replace(' ','%20')\n",
    "    \n",
    "    if not os.path.isfile(file_name):\n",
    "        print(url, '==>', file_name)\n",
    "        urllib.request.urlretrieve(url, file_name)"
   ]
  },
  {
   "cell_type": "code",
   "execution_count": 78,
   "metadata": {},
   "outputs": [
    {
     "name": "stdout",
     "output_type": "stream",
     "text": [
      "donut           <class 'numpy.ndarray'>\n",
      "alarm clock     <class 'numpy.ndarray'>\n",
      "baseball        <class 'numpy.ndarray'>\n",
      "blueberry       <class 'numpy.ndarray'>\n",
      "cookie          <class 'numpy.ndarray'>\n",
      "compass         <class 'numpy.ndarray'>\n",
      "hamburger       <class 'numpy.ndarray'>\n",
      "soccer ball     <class 'numpy.ndarray'>\n",
      "wheel           <class 'numpy.ndarray'>\n",
      "watermelon      <class 'numpy.ndarray'>\n"
     ]
    }
   ],
   "source": [
    "data = []\n",
    "for name in class_names:\n",
    "    file_name = name+'.npy'\n",
    "    data.append(np.load(file_name, fix_imports=True, allow_pickle=True))\n",
    "    print('%-15s'%name,type(data[-1]))"
   ]
  },
  {
   "cell_type": "code",
   "execution_count": 79,
   "metadata": {},
   "outputs": [],
   "source": [
    "test_data = [data[idx][int(0.90*len(data[idx])):int(0.92*len(data[idx]))] for idx in range(len(data))]\n",
    "data = [data[idx][:int(0.08*len(data[idx]))] for idx in range(len(data))]"
   ]
  },
  {
   "cell_type": "code",
   "execution_count": 80,
   "metadata": {},
   "outputs": [],
   "source": [
    "# Data shape conversion\n",
    "X = np.reshape((np.concatenate(data)), (-1, 28, 28, 1))\n",
    "y = np.concatenate([[idx]*len(category) for idx, category in enumerate(data)])"
   ]
  },
  {
   "cell_type": "code",
   "execution_count": 34,
   "metadata": {},
   "outputs": [],
   "source": [
    "# test data\n",
    "X_test = np.reshape((np.concatenate(test_data)), (-1, 28, 28, 1))\n",
    "y_test = np.concatenate([[idx]*len(category) for idx, category in enumerate(test_data)])"
   ]
  },
  {
   "cell_type": "code",
   "execution_count": 35,
   "metadata": {},
   "outputs": [
    {
     "name": "stdout",
     "output_type": "stream",
     "text": [
      "Train dataset info: \n",
      "\n",
      "donut :  11260\n",
      "alarm clock :  9871\n",
      "baseball :  10830\n",
      "blueberry :  10230\n",
      "cookie :  10508\n",
      "compass :  10208\n",
      "hamburger :  10373\n",
      "soccer ball :  10027\n",
      "wheel :  10932\n",
      "watermelon :  10635\n",
      "--------------------\n",
      "Total:  104874\n"
     ]
    }
   ],
   "source": [
    "class_stats = [list(y).count(idx) for idx in set(y)]\n",
    "print('Train dataset info: \\n')\n",
    "for cls_name, stats in zip(class_names, class_stats):\n",
    "    print(cls_name, ': ', stats)\n",
    "print('--------------------')\n",
    "print('Total: ', X.shape[0])"
   ]
  },
  {
   "cell_type": "code",
   "execution_count": 36,
   "metadata": {},
   "outputs": [],
   "source": [
    "X = X / 255\n",
    "X_test = X_test / 255"
   ]
  },
  {
   "cell_type": "code",
   "execution_count": 83,
   "metadata": {},
   "outputs": [],
   "source": [
    "from sklearn.model_selection import train_test_split\n",
    "X_train, X_val, y_train, y_val = train_test_split(\n",
    "                        X, y, train_size=0.8, test_size=0.2, stratify=y)"
   ]
  },
  {
   "cell_type": "code",
   "execution_count": 38,
   "metadata": {},
   "outputs": [],
   "source": [
    "import matplotlib.pyplot as plt\n",
    "import numpy as np\n",
    "import seaborn as sns\n",
    "sns.set(style='whitegrid', font_scale=1.5)\n",
    "import torch\n",
    "import torch.nn as nn\n",
    "import torch.nn.functional as F\n",
    "import torch.optim as optim\n",
    "from torchvision import datasets, transforms\n",
    "\n",
    "from torch.utils.data import TensorDataset, DataLoader\n",
    "\n",
    "from torchvision import datasets, transforms\n",
    "from tqdm import tqdm "
   ]
  },
  {
   "cell_type": "code",
   "execution_count": 68,
   "metadata": {},
   "outputs": [],
   "source": [
    "def count_model_params(model) -> int:\n",
    "    \"\"\"Counts model's parameters\"\"\"\n",
    "    model_parameters = filter(lambda p: p.requires_grad, model.parameters())\n",
    "    params = sum([np.prod(p.size()) for p in model_parameters])\n",
    "#     print(f'Params: {params}, {model._get_name()}')\n",
    "    return params"
   ]
  },
  {
   "cell_type": "code",
   "execution_count": 40,
   "metadata": {},
   "outputs": [],
   "source": [
    "def plot_results(results: list, labels: list) -> None:\n",
    "    \"\"\"plots training metrics\"\"\"\n",
    "    \n",
    "    metrics = ['train loss', 'train acc', 'val loss', 'val acc']\n",
    "    \n",
    "    fig, axs = plt.subplots(2, 2, figsize=(15, 10))\n",
    "    if len(labels) == 1:\n",
    "        srtd = sorted(zip(results, labels), key=lambda x: max(x[0]), reverse=True)\n",
    "    else:\n",
    "        srtd = sorted(zip(results, labels), key=lambda x: max(x[0][3]), reverse=True)       \n",
    "        \n",
    "    \n",
    "    for model_scores, label in srtd:\n",
    "        for result, metric in zip(model_scores, metrics):\n",
    "            \n",
    "            \n",
    "            row = int((metric.split(' ')[0] == 'val'))\n",
    "            col = int((metric.split(' ')[1] == 'acc'))\n",
    "            result = [_.cpu() for _ in result]\n",
    "            if metric.split(' ')[1] == 'acc':\n",
    "                axs[row, col].plot(result, label='{} {:.2f}%'.format(label, 100*max(result)))\n",
    "            else:\n",
    "                axs[row, col].plot(result, label='{} {:.2f}'.format(label, min(result)))\n",
    "                \n",
    "            axs[row, col].set_title(metric)\n",
    "            axs[row, col].legend()\n",
    "    plt.tight_layout()"
   ]
  },
  {
   "cell_type": "code",
   "execution_count": 41,
   "metadata": {},
   "outputs": [],
   "source": [
    "X_train=torch.from_numpy(np.transpose((X_train), (0, 3, 1, 2))).to(torch.float32)\n",
    "X_val=torch.from_numpy(np.transpose((X_val), (0, 3, 1, 2))).to(torch.float32)\n",
    "y_train=torch.from_numpy(y_train)\n",
    "y_val=torch.from_numpy(y_val)\n",
    "X_test = torch.from_numpy(np.transpose((X_test), (0, 3, 1, 2))).to(torch.float32)\n",
    "y_test=torch.from_numpy(y_test)"
   ]
  },
  {
   "cell_type": "markdown",
   "metadata": {},
   "source": [
    "## Module 4 homework best model"
   ]
  },
  {
   "cell_type": "code",
   "execution_count": 42,
   "metadata": {},
   "outputs": [],
   "source": [
    "class NetBN(nn.Module):\n",
    "    def __init__(self):\n",
    "        super(NetBN, self).__init__()\n",
    "        self.model = nn.Sequential(\n",
    "            nn.Conv2d(1, 8, 3),\n",
    "            nn.ReLU(),\n",
    "            nn.BatchNorm2d(8),\n",
    "            nn.Conv2d(8, 32, 3),\n",
    "            nn.ReLU(),\n",
    "            nn.MaxPool2d(2),\n",
    "            nn.Conv2d(32, 64, 3),\n",
    "            nn.ReLU(),\n",
    "            nn.MaxPool2d(2),\n",
    "            nn.Conv2d(64, 128, 3),\n",
    "            nn.ReLU(),\n",
    "            nn.Flatten(),\n",
    "            nn.Linear(1152, 10) \n",
    "        )\n",
    "        \n",
    "    def forward(self, x):\n",
    "        x = self.model(x)\n",
    "        output = F.log_softmax(x, dim=1)\n",
    "        return output"
   ]
  },
  {
   "cell_type": "code",
   "execution_count": 43,
   "metadata": {},
   "outputs": [],
   "source": [
    "import optuna\n",
    "from optuna.trial import TrialState\n",
    "\n",
    "def torch_train(model, optimizer, early_stopping: bool, epochs: int, \n",
    "                batch_size: int, trial, patience=3, save_models=False, scheduler=None) -> dict:\n",
    "    \"\"\"Trains torch model\"\"\"\n",
    "#     device = torch.device('cuda')\n",
    "#     print(device)\n",
    "    \n",
    "    epochs = epochs\n",
    "    batch_size = batch_size\n",
    "\n",
    "    train_dataset = TensorDataset(X_train, y_train)\n",
    "    val_dataset = TensorDataset(X_val, y_val)\n",
    "\n",
    "    train_loader = DataLoader(train_dataset, batch_size=batch_size, shuffle=True)\n",
    "    val_loader = DataLoader(val_dataset, batch_size=batch_size, shuffle=True)\n",
    "\n",
    "#     model = model.to(device)\n",
    "\n",
    "    train_losses, val_losses = [], []\n",
    "    train_accs, val_accs = [], []\n",
    "    \n",
    "    lr_scheduler = None\n",
    "    \n",
    "    if scheduler:\n",
    "        schedulers = {\n",
    "        'None': None,\n",
    "        'exponential': lr_schedulers.ExponentialLR(optimizer, gamma=0.9),\n",
    "        'one_cycle': lr_schedulers.OneCycleLR(optimizer, max_lr=0.1, \n",
    "                                             steps_per_epoch=len(train_loader), epochs=epochs),\n",
    "        }\n",
    "        lr_scheduler = schedulers[scheduler] \n",
    "    \n",
    "    current_patience = 0\n",
    "    highest_acc = 0\n",
    "    progress_bar = tqdm(list(range(1, epochs + 1)), ncols=100)\n",
    "    for epoch in progress_bar:\n",
    "        model.train()\n",
    "        train_loss=0\n",
    "        correct=0\n",
    "        for batch_idx, (data, target) in enumerate(train_loader):\n",
    "            data, target = data.to(device), target.to(device)\n",
    "            optimizer.zero_grad()\n",
    "            output = model(data)\n",
    "            loss = F.nll_loss(output, target)\n",
    "            loss.backward()\n",
    "            optimizer.step()\n",
    "\n",
    "            pred = output.argmax(dim=1, keepdim=True)\n",
    "            correct += pred.eq(target.view_as(pred)).sum().detach()\n",
    "            train_loss+=loss.detach()\n",
    "        if lr_scheduler is not None:\n",
    "            lr_scheduler.step()\n",
    "            \n",
    "        train_loss/=len(train_loader)\n",
    "        acc = correct / float(len(train_loader.dataset))\n",
    "        train_losses.append(train_loss)\n",
    "        train_accs.append(acc)\n",
    "\n",
    "        model.eval()\n",
    "        val_loss = 0\n",
    "        correct = 0\n",
    "        with torch.no_grad():\n",
    "            for data, target in val_loader:\n",
    "                data, target = data.to(device), target.to(device)\n",
    "                output = model(data)\n",
    "                val_loss += F.nll_loss(output, target, reduction='sum').detach()\n",
    "                pred = output.argmax(dim=1, keepdim=True)\n",
    "                correct += pred.eq(target.view_as(pred)).sum().detach()\n",
    "\n",
    "\n",
    "        val_loss /= len(val_loader.dataset)\n",
    "        val_acc = correct / float(len(val_loader.dataset))\n",
    "        progress_bar.set_description('Val acc: {:.2f}%, Val loss: {:.4f}, LR {:.5f}'.format(100*val_acc, val_loss, \n",
    "                                                                                            optimizer.param_groups[0]['lr']))\n",
    "        \n",
    "        if trial:\n",
    "            trial.report(val_acc, epoch)\n",
    "            # Pruning\n",
    "            if trial.should_prune():\n",
    "                raise optuna.exceptions.TrialPruned()\n",
    "            \n",
    "        # early stopping\n",
    "        \n",
    "        if early_stopping:\n",
    "            if val_acc > highest_acc:\n",
    "                highest_acc = val_acc\n",
    "                current_patience = 0\n",
    "                \n",
    "            if len(val_accs) > 0:\n",
    "                if val_acc < highest_acc:\n",
    "                    current_patience += 1\n",
    "                    if current_patience == patience:\n",
    "                        print(f'Early stopped at {epoch} epoch. Current val_acc: {val_acc}. Highest val_acc: {highest_acc}')\n",
    "                        break\n",
    "                        \n",
    "        if save_models:\n",
    "            if len(val_accs) > 0:\n",
    "                if val_acc > max(val_accs):\n",
    "                    torch.save(model.state_dict(), f'./{epoch}_epoch_model.pt')\n",
    "        \n",
    "        val_losses.append(val_loss)\n",
    "        val_accs.append(val_acc)\n",
    "        \n",
    "    return train_losses, train_accs, val_losses, val_accs"
   ]
  },
  {
   "cell_type": "code",
   "execution_count": 44,
   "metadata": {},
   "outputs": [
    {
     "name": "stderr",
     "output_type": "stream",
     "text": [
      "  0%|                                                                        | 0/30 [00:00<?, ?it/s]/home/jakub/anaconda3/envs/deep_learning/lib/python3.8/site-packages/torch/nn/functional.py:718: UserWarning: Named tensors and all their associated APIs are an experimental feature and subject to change. Please do not use them for anything important until they are released as stable. (Triggered internally at  /opt/conda/conda-bld/pytorch_1623448278899/work/c10/core/TensorImpl.h:1156.)\n",
      "  return torch.max_pool2d(input, kernel_size, stride, padding, dilation, ceil_mode)\n",
      "Val acc: 85.33%, Val loss: 0.4718, LR 0.00100:  33%|█████▎          | 10/30 [00:55<01:50,  5.52s/it]"
     ]
    },
    {
     "name": "stdout",
     "output_type": "stream",
     "text": [
      "Early stopped at 11 epoch. Current val_acc: 0.8533492088317871. Highest val_acc: 0.8712276220321655\n"
     ]
    },
    {
     "name": "stderr",
     "output_type": "stream",
     "text": [
      "\n"
     ]
    }
   ],
   "source": [
    "device = torch.device('cuda')\n",
    "model = NetBN()\n",
    "model.to(device)\n",
    "optimizer = optim.Adam(model.parameters(), lr=0.001, weight_decay=0.001)\n",
    "score = torch_train(model, optimizer, early_stopping=True, epochs=30, batch_size=128, \n",
    "                    save_models=True, trial=None, scheduler=None)"
   ]
  },
  {
   "cell_type": "code",
   "execution_count": 45,
   "metadata": {},
   "outputs": [
    {
     "data": {
      "image/png": "[encoded data removed]",
      "text/plain": [
       "<Figure size 1080x720 with 4 Axes>"
      ]
     },
     "metadata": {},
     "output_type": "display_data"
    }
   ],
   "source": [
    "del model\n",
    "torch.cuda.empty_cache()\n",
    "plot_results([score], ['Module 4 best model'])"
   ]
  },
  {
   "cell_type": "markdown",
   "metadata": {},
   "source": [
    "# Search space\n",
    "\n",
    "W przestrzeni poszukiwań wykorzystam następujące parametry:\n",
    "- Pooling\n",
    "    - Max\n",
    "    - Avg\n",
    "- Optymalizator\n",
    "    - SWATS\n",
    "    - AdamW\n",
    "    - AdaMod\n",
    "- Liczba warstw Conv2d\n",
    "    - 2, 3, 4\n",
    "- Liczba warstw Dropout wykorzystujących dropratio=0.1\n",
    "    - 0, 1, 2, 3\n",
    "- Learning rate scheduler\n",
    "    - OneCycleLr\n",
    "    - Exponential\n",
    "- Learning rate: 1e-5...1e-1\n",
    "- Liczba warstw fully connected w klasyfikatorze\n",
    "    - 1, 2, 3\n",
    "- Liczba wartsw Batch Normalization"
   ]
  },
  {
   "cell_type": "code",
   "execution_count": 46,
   "metadata": {},
   "outputs": [],
   "source": [
    "class Net(nn.Module):\n",
    "    def __init__(self, pooling, convs, bns, fcs, dropouts):\n",
    "        super(Net, self).__init__()\n",
    "        \n",
    "        self.pooling = pooling\n",
    "        self.convs = convs\n",
    "        self.bns = bns\n",
    "        self.fcs = fcs\n",
    "        self.dropouts = dropouts\n",
    "        \n",
    "        self.layers = [nn.Conv2d(1, 16, 3, padding=1),\n",
    "                 nn.ReLU()]\n",
    "        \n",
    "        if self.pooling == 'max':\n",
    "            self.layers.append(nn.MaxPool2d(2))\n",
    "        else:\n",
    "            self.layers.append(nn.AvgPool2d(2))\n",
    "        \n",
    "        for i in range(self.convs):\n",
    "            if self.bns > 0:\n",
    "                self.bns -= 1\n",
    "                self.layers.extend([\n",
    "                    nn.BatchNorm2d(2**(i+4)),\n",
    "                    nn.Conv2d(2**(i+4), 2**(i+5), 3, padding=1),\n",
    "                    nn.ReLU()\n",
    "                ])\n",
    "                \n",
    "            else:\n",
    "                self.layers.extend([\n",
    "                    nn.Conv2d(2**(i+4), 2**(i+5), 3, padding=1),\n",
    "                    nn.ReLU()\n",
    "                ])\n",
    "                \n",
    "            if self.pooling == 'max':\n",
    "                self.layers.append(nn.MaxPool2d(2))\n",
    "            else:\n",
    "                self.layers.append(nn.AvgPool2d(2))\n",
    "                \n",
    "            if self.dropouts > 0:\n",
    "                self.layers.append(nn.Dropout(0.1))\n",
    "                self.dropouts -= 1\n",
    "                \n",
    "        \n",
    "        self.layers.extend([nn.AdaptiveAvgPool2d((1, 1)), nn.Flatten()])\n",
    "        \n",
    "        if self.fcs > 1:\n",
    "            self.layers.extend([nn.Linear(2**(convs+4), 2**(convs+4)) for _ in range(self.fcs - 1)])\n",
    "        \n",
    "        self.layers.append(nn.Linear(2**(convs+4), 10))\n",
    "        self.model = nn.Sequential(*self.layers)\n",
    "        \n",
    "    def forward(self, x):\n",
    "        x = self.model(x)\n",
    "        output = F.log_softmax(x, dim=1)\n",
    "        return output"
   ]
  },
  {
   "cell_type": "markdown",
   "metadata": {},
   "source": [
    "# HPO"
   ]
  },
  {
   "cell_type": "code",
   "execution_count": 51,
   "metadata": {},
   "outputs": [],
   "source": [
    "import torch_optimizer as optim\n",
    "import torch.optim.lr_scheduler as lr_schedulers\n",
    "\n",
    "device = torch.device('cuda')\n",
    "def objective(trial):\n",
    "    pooling = trial.suggest_categorical('pooling', ['avg', 'max'])\n",
    "    convs = trial.suggest_int('convs', 1, 3)\n",
    "    fcs = trial.suggest_int('FCs', 1, 3)\n",
    "    dropouts = trial.suggest_int('Dropouts', 0, 3)\n",
    "    \n",
    "    # Define model\n",
    "    model = Net(pooling, convs, bns, fcs, dropouts)\n",
    "    model = model.to(device)\n",
    "    \n",
    "    # Generate optimizer\n",
    "    optim_choice = trial.suggest_categorical('optimizer', ['adamod', 'swats', 'adamw'])\n",
    "    lr = trial.suggest_float('lr', 1e-5, 1e-1, log=True)\n",
    "    optimizers = {\n",
    "        'adamod': optim.adamod.AdaMod, \n",
    "        'swats': optim.swats.SWATS, \n",
    "        'adamw': torch.optim.AdamW\n",
    "    }\n",
    "    optimizer = optimizers[optim_choice](model.parameters(), lr=lr)\n",
    "    \n",
    "    # Define lr scheduler\n",
    "    scheduler_choice = trial.suggest_categorical('lr_scheduler', ['None', 'exponential', 'one_cycle'])\n",
    "    \n",
    "    # Training\n",
    "    score = torch_train(model, optimizer, early_stopping=True, epochs=20, batch_size=128,\n",
    "                       trial=trial, scheduler=scheduler_choice)\n",
    "    return score[3][-1]"
   ]
  },
  {
   "cell_type": "code",
   "execution_count": 48,
   "metadata": {},
   "outputs": [
    {
     "name": "stdout",
     "output_type": "stream",
     "text": [
      "----------------------------------------------------------------\n",
      "        Layer (type)               Output Shape         Param #\n",
      "================================================================\n",
      "            Conv2d-1           [-1, 16, 28, 28]             160\n",
      "              ReLU-2           [-1, 16, 28, 28]               0\n",
      "         MaxPool2d-3           [-1, 16, 14, 14]               0\n",
      "       BatchNorm2d-4           [-1, 16, 14, 14]              32\n",
      "            Conv2d-5           [-1, 32, 14, 14]           4,640\n",
      "              ReLU-6           [-1, 32, 14, 14]               0\n",
      "         MaxPool2d-7             [-1, 32, 7, 7]               0\n",
      "           Dropout-8             [-1, 32, 7, 7]               0\n",
      "       BatchNorm2d-9             [-1, 32, 7, 7]              64\n",
      "           Conv2d-10             [-1, 64, 7, 7]          18,496\n",
      "             ReLU-11             [-1, 64, 7, 7]               0\n",
      "        MaxPool2d-12             [-1, 64, 3, 3]               0\n",
      "          Dropout-13             [-1, 64, 3, 3]               0\n",
      "           Conv2d-14            [-1, 128, 3, 3]          73,856\n",
      "             ReLU-15            [-1, 128, 3, 3]               0\n",
      "        MaxPool2d-16            [-1, 128, 1, 1]               0\n",
      "          Dropout-17            [-1, 128, 1, 1]               0\n",
      "AdaptiveAvgPool2d-18            [-1, 128, 1, 1]               0\n",
      "          Flatten-19                  [-1, 128]               0\n",
      "           Linear-20                  [-1, 128]          16,512\n",
      "           Linear-21                  [-1, 128]          16,512\n",
      "           Linear-22                   [-1, 10]           1,290\n",
      "================================================================\n",
      "Total params: 131,562\n",
      "Trainable params: 131,562\n",
      "Non-trainable params: 0\n",
      "----------------------------------------------------------------\n",
      "Input size (MB): 0.00\n",
      "Forward/backward pass size (MB): 0.45\n",
      "Params size (MB): 0.50\n",
      "Estimated Total Size (MB): 0.96\n",
      "----------------------------------------------------------------\n"
     ]
    }
   ],
   "source": [
    "# Model example\n",
    "n = Net('max', convs=3, bns=2, fcs=3, dropouts=3)\n",
    "from torchsummary import summary\n",
    "n = n.to(device)\n",
    "summary(n, (1, 28, 28))"
   ]
  },
  {
   "cell_type": "code",
   "execution_count": 63,
   "metadata": {},
   "outputs": [
    {
     "name": "stderr",
     "output_type": "stream",
     "text": [
      "\u001b[32m[I 2021-09-23 09:09:52,833]\u001b[0m A new study created in memory with name: Quickdraw classification optimization\u001b[0m\n",
      "Val acc: 88.43%, Val loss: 0.3744, LR 0.00400:  55%|████████▊       | 11/20 [01:40<01:22,  9.17s/it]\n",
      "\u001b[32m[I 2021-09-23 09:11:33,761]\u001b[0m Trial 0 finished with value: 0.8784743547439575 and parameters: {'pooling': 'avg', 'convs': 3, 'BNs': 1, 'FCs': 2, 'Dropouts': 3, 'optimizer': 'swats', 'lr': 0.032072946338663755, 'lr_scheduler': 'None'}. Best is trial 0 with value: 0.8784743547439575.\u001b[0m\n"
     ]
    },
    {
     "name": "stdout",
     "output_type": "stream",
     "text": [
      "Early stopped at 12 epoch. Current val_acc: 0.8843384981155396. Highest val_acc: 0.8894397616386414\n"
     ]
    },
    {
     "name": "stderr",
     "output_type": "stream",
     "text": [
      "Val acc: 87.15%, Val loss: 0.4160, LR 0.00054:  90%|██████████████▍ | 18/20 [02:02<00:13,  6.81s/it]\n",
      "\u001b[32m[I 2021-09-23 09:13:36,429]\u001b[0m Trial 1 finished with value: 0.8694636225700378 and parameters: {'pooling': 'max', 'convs': 2, 'BNs': 3, 'FCs': 1, 'Dropouts': 1, 'optimizer': 'swats', 'lr': 0.004307612631115895, 'lr_scheduler': 'exponential'}. Best is trial 0 with value: 0.8784743547439575.\u001b[0m\n"
     ]
    },
    {
     "name": "stdout",
     "output_type": "stream",
     "text": [
      "Early stopped at 19 epoch. Current val_acc: 0.8714659810066223. Highest val_acc: 0.8718950748443604\n"
     ]
    },
    {
     "name": "stderr",
     "output_type": "stream",
     "text": [
      "Val acc: 88.31%, Val loss: 0.3837, LR 0.00401: 100%|████████████████| 20/20 [01:29<00:00,  4.49s/it]\n",
      "\u001b[32m[I 2021-09-23 09:15:06,233]\u001b[0m Trial 2 finished with value: 0.8830512166023254 and parameters: {'pooling': 'max', 'convs': 3, 'BNs': 3, 'FCs': 1, 'Dropouts': 3, 'optimizer': 'adamw', 'lr': 0.003964726376222404, 'lr_scheduler': 'one_cycle'}. Best is trial 2 with value: 0.8830512166023254.\u001b[0m\n",
      "Val acc: 86.61%, Val loss: 0.4325, LR 0.00400:  45%|███████▋         | 9/20 [01:25<01:44,  9.49s/it]\n",
      "\u001b[32m[I 2021-09-23 09:16:31,672]\u001b[0m Trial 3 finished with value: 0.867127537727356 and parameters: {'pooling': 'max', 'convs': 3, 'BNs': 3, 'FCs': 2, 'Dropouts': 1, 'optimizer': 'swats', 'lr': 6.095801418570478e-05, 'lr_scheduler': 'None'}. Best is trial 2 with value: 0.8830512166023254.\u001b[0m\n"
     ]
    },
    {
     "name": "stdout",
     "output_type": "stream",
     "text": [
      "Early stopped at 10 epoch. Current val_acc: 0.8660786151885986. Highest val_acc: 0.8732776641845703\n"
     ]
    },
    {
     "name": "stderr",
     "output_type": "stream",
     "text": [
      "Val acc: 87.77%, Val loss: 0.4406, LR 0.00400:  75%|████████████    | 15/20 [02:12<00:44,  8.83s/it]\n",
      "\u001b[32m[I 2021-09-23 09:18:44,096]\u001b[0m Trial 4 finished with value: 0.8821930885314941 and parameters: {'pooling': 'avg', 'convs': 3, 'BNs': 1, 'FCs': 1, 'Dropouts': 1, 'optimizer': 'swats', 'lr': 0.00013142381968817644, 'lr_scheduler': 'None'}. Best is trial 2 with value: 0.8830512166023254.\u001b[0m\n"
     ]
    },
    {
     "name": "stdout",
     "output_type": "stream",
     "text": [
      "Early stopped at 16 epoch. Current val_acc: 0.8777115345001221. Highest val_acc: 0.8861501812934875\n"
     ]
    },
    {
     "name": "stderr",
     "output_type": "stream",
     "text": [
      "Val acc: 64.79%, Val loss: 1.0990, LR 0.00400:   0%|                         | 0/20 [00:02<?, ?it/s]\n",
      "\u001b[32m[I 2021-09-23 09:18:46,874]\u001b[0m Trial 5 pruned. \u001b[0m\n",
      "Val acc: 62.05%, Val loss: 1.1904, LR 0.00400:   0%|                         | 0/20 [00:05<?, ?it/s]\n",
      "\u001b[32m[I 2021-09-23 09:18:52,364]\u001b[0m Trial 6 pruned. \u001b[0m\n",
      "Val acc: 81.52%, Val loss: 0.5833, LR 0.00360:   0%|                         | 0/20 [00:03<?, ?it/s]\n",
      "\u001b[32m[I 2021-09-23 09:18:55,627]\u001b[0m Trial 7 pruned. \u001b[0m\n",
      "Val acc: 85.24%, Val loss: 0.4646, LR 0.00400:   5%|▊                | 1/20 [00:09<02:54,  9.18s/it]\n",
      "\u001b[32m[I 2021-09-23 09:19:04,816]\u001b[0m Trial 8 pruned. \u001b[0m\n",
      "Val acc: 70.36%, Val loss: 0.9068, LR 0.00360:   0%|                         | 0/20 [00:04<?, ?it/s]\n",
      "\u001b[32m[I 2021-09-23 09:19:09,028]\u001b[0m Trial 9 pruned. \u001b[0m\n",
      "Val acc: 78.25%, Val loss: 0.6899, LR 0.00400:   0%|                         | 0/20 [00:03<?, ?it/s]\n",
      "\u001b[32m[I 2021-09-23 09:19:12,732]\u001b[0m Trial 10 pruned. \u001b[0m\n",
      "Val acc: 87.09%, Val loss: 0.4339, LR 0.00400:  30%|█████            | 6/20 [00:31<01:12,  5.21s/it]\n",
      "\u001b[32m[I 2021-09-23 09:19:44,035]\u001b[0m Trial 11 finished with value: 0.8725149035453796 and parameters: {'pooling': 'avg', 'convs': 3, 'BNs': 2, 'FCs': 1, 'Dropouts': 0, 'optimizer': 'adamw', 'lr': 0.00041453913580413303, 'lr_scheduler': 'one_cycle'}. Best is trial 2 with value: 0.8830512166023254.\u001b[0m\n"
     ]
    },
    {
     "name": "stdout",
     "output_type": "stream",
     "text": [
      "Early stopped at 7 epoch. Current val_acc: 0.8708938956260681. Highest val_acc: 0.8794755339622498\n"
     ]
    },
    {
     "name": "stderr",
     "output_type": "stream",
     "text": [
      "Val acc: 74.42%, Val loss: 0.7968, LR 0.00400:   0%|                         | 0/20 [00:04<?, ?it/s]\n",
      "\u001b[32m[I 2021-09-23 09:19:48,327]\u001b[0m Trial 12 pruned. \u001b[0m\n",
      "Val acc: 78.97%, Val loss: 0.6611, LR 0.00400:   0%|                         | 0/20 [00:06<?, ?it/s]\n",
      "\u001b[32m[I 2021-09-23 09:19:54,609]\u001b[0m Trial 13 pruned. \u001b[0m\n",
      "Val acc: 82.89%, Val loss: 0.5362, LR 0.00400:   0%|                         | 0/20 [00:04<?, ?it/s]\n",
      "\u001b[32m[I 2021-09-23 09:19:59,209]\u001b[0m Trial 14 pruned. \u001b[0m\n",
      "Val acc: 81.25%, Val loss: 0.5921, LR 0.00400:   0%|                         | 0/20 [00:06<?, ?it/s]\n",
      "\u001b[32m[I 2021-09-23 09:20:05,289]\u001b[0m Trial 15 pruned. \u001b[0m\n",
      "Val acc: 85.85%, Val loss: 0.4407, LR 0.00400:  10%|█▋               | 2/20 [00:13<01:59,  6.66s/it]\n",
      "\u001b[32m[I 2021-09-23 09:20:18,635]\u001b[0m Trial 16 pruned. \u001b[0m\n",
      "Val acc: 39.17%, Val loss: 1.6946, LR 0.00400:   0%|                         | 0/20 [00:02<?, ?it/s]\n",
      "\u001b[32m[I 2021-09-23 09:20:21,267]\u001b[0m Trial 17 pruned. \u001b[0m\n",
      "Val acc: 81.19%, Val loss: 0.5977, LR 0.00400:   0%|                         | 0/20 [00:06<?, ?it/s]\n",
      "\u001b[32m[I 2021-09-23 09:20:28,059]\u001b[0m Trial 18 pruned. \u001b[0m\n",
      "Val acc: 85.27%, Val loss: 0.4653, LR 0.00292:  10%|█▋               | 2/20 [00:13<02:02,  6.80s/it]\n",
      "\u001b[32m[I 2021-09-23 09:20:41,678]\u001b[0m Trial 19 pruned. \u001b[0m\n",
      "Val acc: 78.61%, Val loss: 0.6552, LR 0.00400:   0%|                         | 0/20 [00:04<?, ?it/s]\n",
      "\u001b[32m[I 2021-09-23 09:20:45,869]\u001b[0m Trial 20 pruned. \u001b[0m\n",
      "Val acc: 87.56%, Val loss: 0.3875, LR 0.00400:  15%|██▌              | 3/20 [00:34<03:14, 11.47s/it]\n",
      "\u001b[32m[I 2021-09-23 09:21:20,299]\u001b[0m Trial 21 pruned. \u001b[0m\n",
      "Val acc: 82.43%, Val loss: 0.5506, LR 0.00400:   0%|                         | 0/20 [00:09<?, ?it/s]\n",
      "\u001b[32m[I 2021-09-23 09:21:29,437]\u001b[0m Trial 22 pruned. \u001b[0m\n",
      "Val acc: 84.50%, Val loss: 0.4805, LR 0.00400:   5%|▊                | 1/20 [00:17<05:34, 17.62s/it]\n",
      "\u001b[32m[I 2021-09-23 09:21:47,092]\u001b[0m Trial 23 pruned. \u001b[0m\n",
      "Val acc: 87.38%, Val loss: 0.3941, LR 0.00400:  15%|██▌              | 3/20 [00:33<03:07, 11.05s/it]\n",
      "\u001b[32m[I 2021-09-23 09:22:20,256]\u001b[0m Trial 24 pruned. \u001b[0m\n",
      "Val acc: 79.25%, Val loss: 0.6388, LR 0.00400:   0%|                         | 0/20 [00:06<?, ?it/s]\n",
      "\u001b[32m[I 2021-09-23 09:22:27,231]\u001b[0m Trial 25 pruned. \u001b[0m\n",
      "Val acc: 71.66%, Val loss: 0.8801, LR 0.00400:   0%|                         | 0/20 [00:07<?, ?it/s]\n",
      "\u001b[32m[I 2021-09-23 09:22:34,628]\u001b[0m Trial 26 pruned. \u001b[0m\n",
      "Val acc: 82.27%, Val loss: 0.5705, LR 0.00360:   0%|                         | 0/20 [00:03<?, ?it/s]\n",
      "\u001b[32m[I 2021-09-23 09:22:38,302]\u001b[0m Trial 27 pruned. \u001b[0m\n",
      "Val acc: 82.26%, Val loss: 0.5457, LR 0.00400:   0%|                         | 0/20 [00:09<?, ?it/s]\n",
      "\u001b[32m[I 2021-09-23 09:22:47,610]\u001b[0m Trial 28 pruned. \u001b[0m\n",
      "Val acc: 82.94%, Val loss: 0.5507, LR 0.00400:   0%|                         | 0/20 [00:03<?, ?it/s]\n",
      "\u001b[32m[I 2021-09-23 09:22:51,272]\u001b[0m Trial 29 pruned. \u001b[0m\n",
      "Val acc: 89.25%, Val loss: 0.3524, LR 0.00067:  80%|████████████▊   | 16/20 [02:19<00:34,  8.71s/it]\n",
      "\u001b[32m[I 2021-09-23 09:25:10,695]\u001b[0m Trial 30 finished with value: 0.8927770853042603 and parameters: {'pooling': 'avg', 'convs': 3, 'BNs': 1, 'FCs': 1, 'Dropouts': 3, 'optimizer': 'swats', 'lr': 0.0046858593933431615, 'lr_scheduler': 'exponential'}. Best is trial 30 with value: 0.8927770853042603.\u001b[0m\n"
     ]
    },
    {
     "name": "stdout",
     "output_type": "stream",
     "text": [
      "Early stopped at 17 epoch. Current val_acc: 0.8925387263298035. Highest val_acc: 0.8939689993858337\n"
     ]
    },
    {
     "name": "stderr",
     "output_type": "stream",
     "text": [
      "Val acc: 82.71%, Val loss: 0.5359, LR 0.13855:   0%|                         | 0/20 [00:06<?, ?it/s]\n",
      "\u001b[32m[I 2021-09-23 09:25:16,755]\u001b[0m Trial 31 pruned. \u001b[0m\n",
      "Val acc: 87.20%, Val loss: 0.3911, LR 0.00262:  15%|██▌              | 3/20 [00:32<03:05, 10.93s/it]\n",
      "\u001b[32m[I 2021-09-23 09:25:49,587]\u001b[0m Trial 32 pruned. \u001b[0m\n",
      "Val acc: 83.53%, Val loss: 0.5255, LR 0.00360:   0%|                         | 0/20 [00:08<?, ?it/s]\n",
      "\u001b[32m[I 2021-09-23 09:25:57,971]\u001b[0m Trial 33 pruned. \u001b[0m\n",
      "Val acc: 72.35%, Val loss: 0.8598, LR 0.00360:   0%|                         | 0/20 [00:07<?, ?it/s]\n",
      "\u001b[32m[I 2021-09-23 09:26:05,293]\u001b[0m Trial 34 pruned. \u001b[0m\n",
      "Val acc: 61.26%, Val loss: 1.2066, LR 0.00400:   0%|                         | 0/20 [00:04<?, ?it/s]\n",
      "\u001b[32m[I 2021-09-23 09:26:10,033]\u001b[0m Trial 35 pruned. \u001b[0m\n",
      "Val acc: 83.05%, Val loss: 0.5292, LR 0.00360:   0%|                         | 0/20 [00:09<?, ?it/s]\n",
      "\u001b[32m[I 2021-09-23 09:26:19,369]\u001b[0m Trial 36 pruned. \u001b[0m\n",
      "Val acc: 82.79%, Val loss: 0.5429, LR 0.00400:   0%|                         | 0/20 [00:04<?, ?it/s]\n",
      "\u001b[32m[I 2021-09-23 09:26:23,877]\u001b[0m Trial 37 pruned. \u001b[0m\n",
      "Val acc: 85.57%, Val loss: 0.4556, LR 0.00324:   5%|▊                | 1/20 [00:09<02:52,  9.08s/it]\n",
      "\u001b[32m[I 2021-09-23 09:26:32,980]\u001b[0m Trial 38 pruned. \u001b[0m\n",
      "Val acc: 80.99%, Val loss: 0.5989, LR 0.00400:   0%|                         | 0/20 [00:06<?, ?it/s]\n",
      "\u001b[32m[I 2021-09-23 09:26:39,613]\u001b[0m Trial 39 pruned. \u001b[0m\n",
      "Val acc: 73.73%, Val loss: 0.8081, LR 0.00400:   0%|                         | 0/20 [00:04<?, ?it/s]\n",
      "\u001b[32m[I 2021-09-23 09:26:44,042]\u001b[0m Trial 40 pruned. \u001b[0m\n",
      "Val acc: 87.39%, Val loss: 0.4117, LR 0.00400:  30%|█████            | 6/20 [00:31<01:13,  5.27s/it]\n",
      "\u001b[32m[I 2021-09-23 09:27:15,701]\u001b[0m Trial 41 finished with value: 0.8769487142562866 and parameters: {'pooling': 'avg', 'convs': 3, 'BNs': 3, 'FCs': 1, 'Dropouts': 0, 'optimizer': 'adamw', 'lr': 0.000376870116525737, 'lr_scheduler': 'one_cycle'}. Best is trial 30 with value: 0.8927770853042603.\u001b[0m\n"
     ]
    },
    {
     "name": "stdout",
     "output_type": "stream",
     "text": [
      "Early stopped at 7 epoch. Current val_acc: 0.8738974928855896. Highest val_acc: 0.8795709013938904\n"
     ]
    },
    {
     "name": "stderr",
     "output_type": "stream",
     "text": [
      "Val acc: 86.87%, Val loss: 0.4104, LR 0.00400:  15%|██▌              | 3/20 [00:18<01:43,  6.11s/it]\n",
      "\u001b[32m[I 2021-09-23 09:27:34,047]\u001b[0m Trial 42 pruned. \u001b[0m\n",
      "Val acc: 85.42%, Val loss: 0.4670, LR 0.00400:  15%|██▌              | 3/20 [00:17<01:41,  5.97s/it]\n",
      "\u001b[32m[I 2021-09-23 09:27:51,988]\u001b[0m Trial 43 pruned. \u001b[0m\n",
      "Val acc: 86.45%, Val loss: 0.4219, LR 0.00400:  10%|█▋               | 2/20 [00:14<02:06,  7.02s/it]\n",
      "\u001b[32m[I 2021-09-23 09:28:06,048]\u001b[0m Trial 44 pruned. \u001b[0m\n",
      "Val acc: 87.59%, Val loss: 0.3887, LR 0.00400:  15%|██▌              | 3/20 [00:18<01:42,  6.02s/it]\n",
      "\u001b[32m[I 2021-09-23 09:28:24,145]\u001b[0m Trial 45 pruned. \u001b[0m\n",
      "Val acc: 86.40%, Val loss: 0.4292, LR 0.00400:  10%|█▋               | 2/20 [00:13<01:59,  6.65s/it]\n",
      "\u001b[32m[I 2021-09-23 09:28:37,482]\u001b[0m Trial 46 pruned. \u001b[0m\n",
      "Val acc: 84.92%, Val loss: 0.4619, LR 0.00400:   5%|▊                | 1/20 [00:09<02:53,  9.13s/it]\n",
      "\u001b[32m[I 2021-09-23 09:28:46,647]\u001b[0m Trial 47 pruned. \u001b[0m\n",
      "Val acc: 83.80%, Val loss: 0.5083, LR 0.00400:   0%|                         | 0/20 [00:08<?, ?it/s]\n",
      "\u001b[32m[I 2021-09-23 09:28:55,471]\u001b[0m Trial 48 pruned. \u001b[0m\n",
      "Val acc: 67.39%, Val loss: 1.0450, LR 0.00360:   0%|                         | 0/20 [00:02<?, ?it/s]\n",
      "\u001b[32m[I 2021-09-23 09:28:57,862]\u001b[0m Trial 49 pruned. \u001b[0m\n",
      "Val acc: 85.71%, Val loss: 0.4531, LR 0.00400:   5%|▊                | 1/20 [00:16<05:18, 16.76s/it]\n",
      "\u001b[32m[I 2021-09-23 09:29:14,655]\u001b[0m Trial 50 pruned. \u001b[0m\n",
      "Val acc: 82.82%, Val loss: 0.5479, LR 0.00400:   0%|                         | 0/20 [00:04<?, ?it/s]\n",
      "\u001b[32m[I 2021-09-23 09:29:19,192]\u001b[0m Trial 51 pruned. \u001b[0m\n",
      "Val acc: 86.22%, Val loss: 0.4283, LR 0.00400:  10%|█▋               | 2/20 [00:13<02:01,  6.75s/it]\n",
      "\u001b[32m[I 2021-09-23 09:29:32,727]\u001b[0m Trial 52 pruned. \u001b[0m\n",
      "Val acc: 84.99%, Val loss: 0.4668, LR 0.00400:   5%|▊                | 1/20 [00:09<02:51,  9.02s/it]\n",
      "\u001b[32m[I 2021-09-23 09:29:41,778]\u001b[0m Trial 53 pruned. \u001b[0m\n",
      "Val acc: 85.52%, Val loss: 0.4473, LR 0.00400:   5%|▊                | 1/20 [00:09<02:53,  9.14s/it]\n",
      "\u001b[32m[I 2021-09-23 09:29:50,954]\u001b[0m Trial 54 pruned. \u001b[0m\n",
      "Val acc: 81.37%, Val loss: 0.5799, LR 0.00400:   0%|                         | 0/20 [00:03<?, ?it/s]\n",
      "\u001b[32m[I 2021-09-23 09:29:54,333]\u001b[0m Trial 55 pruned. \u001b[0m\n",
      "Val acc: 87.63%, Val loss: 0.4220, LR 0.00400:  65%|██████████▍     | 13/20 [01:55<01:01,  8.85s/it]\n",
      "\u001b[32m[I 2021-09-23 09:31:49,461]\u001b[0m Trial 56 finished with value: 0.8857687711715698 and parameters: {'pooling': 'avg', 'convs': 3, 'BNs': 1, 'FCs': 1, 'Dropouts': 1, 'optimizer': 'swats', 'lr': 0.003674016600470669, 'lr_scheduler': 'one_cycle'}. Best is trial 30 with value: 0.8927770853042603.\u001b[0m\n"
     ]
    },
    {
     "name": "stdout",
     "output_type": "stream",
     "text": [
      "Early stopped at 14 epoch. Current val_acc: 0.8762812614440918. Highest val_acc: 0.886340856552124\n"
     ]
    },
    {
     "name": "stderr",
     "output_type": "stream",
     "text": [
      "Val acc: 83.29%, Val loss: 0.5148, LR 0.00400:   0%|                         | 0/20 [00:08<?, ?it/s]\n",
      "\u001b[32m[I 2021-09-23 09:31:57,695]\u001b[0m Trial 57 pruned. \u001b[0m\n",
      "Val acc: 83.55%, Val loss: 0.5154, LR 0.00400:   0%|                         | 0/20 [00:08<?, ?it/s]\n",
      "\u001b[32m[I 2021-09-23 09:32:06,473]\u001b[0m Trial 58 pruned. \u001b[0m\n",
      "Val acc: 86.12%, Val loss: 0.4407, LR 0.00400:  10%|█▋               | 2/20 [00:24<03:43, 12.42s/it]\n",
      "\u001b[32m[I 2021-09-23 09:32:31,349]\u001b[0m Trial 59 pruned. \u001b[0m\n",
      "Val acc: 85.64%, Val loss: 0.4475, LR 0.00400:   5%|▊                | 1/20 [00:17<05:31, 17.43s/it]\n",
      "\u001b[32m[I 2021-09-23 09:32:48,812]\u001b[0m Trial 60 pruned. \u001b[0m\n",
      "Val acc: 82.63%, Val loss: 0.5502, LR 0.00400:   0%|                         | 0/20 [00:08<?, ?it/s]\n",
      "\u001b[32m[I 2021-09-23 09:32:57,123]\u001b[0m Trial 61 pruned. \u001b[0m\n",
      "Val acc: 83.05%, Val loss: 0.5226, LR 0.00400:   0%|                         | 0/20 [00:08<?, ?it/s]\n",
      "\u001b[32m[I 2021-09-23 09:33:05,402]\u001b[0m Trial 62 pruned. \u001b[0m\n",
      "Val acc: 80.44%, Val loss: 0.6120, LR 0.00400:   0%|                         | 0/20 [00:04<?, ?it/s]\n",
      "\u001b[32m[I 2021-09-23 09:33:10,011]\u001b[0m Trial 63 pruned. \u001b[0m\n",
      "Val acc: 84.12%, Val loss: 0.4846, LR 0.00360:   0%|                         | 0/20 [00:04<?, ?it/s]\n",
      "\u001b[32m[I 2021-09-23 09:33:14,580]\u001b[0m Trial 64 pruned. \u001b[0m\n",
      "Val acc: 82.51%, Val loss: 0.5453, LR 0.00400:   0%|                         | 0/20 [00:10<?, ?it/s]\n",
      "\u001b[32m[I 2021-09-23 09:33:24,675]\u001b[0m Trial 65 pruned. \u001b[0m\n",
      "Val acc: 70.59%, Val loss: 0.8880, LR 0.00400:   0%|                         | 0/20 [00:07<?, ?it/s]\n",
      "\u001b[32m[I 2021-09-23 09:33:31,872]\u001b[0m Trial 66 pruned. \u001b[0m\n",
      "Val acc: 80.91%, Val loss: 0.5991, LR 0.00400:   0%|                         | 0/20 [00:03<?, ?it/s]\n",
      "\u001b[32m[I 2021-09-23 09:33:35,228]\u001b[0m Trial 67 pruned. \u001b[0m\n",
      "Val acc: 86.25%, Val loss: 0.4322, LR 0.00292:  10%|█▋               | 2/20 [00:25<03:48, 12.70s/it]\n",
      "\u001b[32m[I 2021-09-23 09:34:00,654]\u001b[0m Trial 68 pruned. \u001b[0m\n",
      "Val acc: 83.62%, Val loss: 0.5072, LR 0.00400:   0%|                         | 0/20 [00:04<?, ?it/s]\n",
      "\u001b[32m[I 2021-09-23 09:34:05,294]\u001b[0m Trial 69 pruned. \u001b[0m\n",
      "Val acc: 82.30%, Val loss: 0.5559, LR 0.00400:   0%|                         | 0/20 [00:04<?, ?it/s]\n",
      "\u001b[32m[I 2021-09-23 09:34:09,883]\u001b[0m Trial 70 pruned. \u001b[0m\n",
      "Val acc: 81.25%, Val loss: 0.5949, LR 0.00360:   0%|                         | 0/20 [00:06<?, ?it/s]\n",
      "\u001b[32m[I 2021-09-23 09:34:16,111]\u001b[0m Trial 71 pruned. \u001b[0m\n",
      "Val acc: 81.64%, Val loss: 0.5687, LR 0.00360:   0%|                         | 0/20 [00:06<?, ?it/s]\n",
      "\u001b[32m[I 2021-09-23 09:34:22,352]\u001b[0m Trial 72 pruned. \u001b[0m\n",
      "Val acc: 82.64%, Val loss: 0.5562, LR 0.00360:   0%|                         | 0/20 [00:06<?, ?it/s]\n",
      "\u001b[32m[I 2021-09-23 09:34:28,541]\u001b[0m Trial 73 pruned. \u001b[0m\n",
      "Val acc: 81.65%, Val loss: 0.5813, LR 0.00360:   0%|                         | 0/20 [00:06<?, ?it/s]\n",
      "\u001b[32m[I 2021-09-23 09:34:34,743]\u001b[0m Trial 74 pruned. \u001b[0m\n",
      "Val acc: 81.65%, Val loss: 0.5895, LR 0.00360:   0%|                         | 0/20 [00:06<?, ?it/s]\n",
      "\u001b[32m[I 2021-09-23 09:34:40,999]\u001b[0m Trial 75 pruned. \u001b[0m\n",
      "Val acc: 80.61%, Val loss: 0.5988, LR 0.00400:   0%|                         | 0/20 [00:08<?, ?it/s]\n",
      "\u001b[32m[I 2021-09-23 09:34:49,282]\u001b[0m Trial 76 pruned. \u001b[0m\n",
      "Val acc: 85.42%, Val loss: 0.4599, LR 0.00400:   5%|▊                | 1/20 [00:08<02:49,  8.90s/it]\n",
      "\u001b[32m[I 2021-09-23 09:34:58,208]\u001b[0m Trial 77 pruned. \u001b[0m\n",
      "Val acc: 82.13%, Val loss: 0.5670, LR 0.00360:   0%|                         | 0/20 [00:06<?, ?it/s]\n",
      "\u001b[32m[I 2021-09-23 09:35:05,026]\u001b[0m Trial 78 pruned. \u001b[0m\n",
      "Val acc: 82.76%, Val loss: 0.5421, LR 0.00400:   0%|                         | 0/20 [00:05<?, ?it/s]\n",
      "\u001b[32m[I 2021-09-23 09:35:10,442]\u001b[0m Trial 79 pruned. \u001b[0m\n",
      "Val acc: 84.07%, Val loss: 0.4956, LR 0.00400:   0%|                         | 0/20 [00:08<?, ?it/s]\n",
      "\u001b[32m[I 2021-09-23 09:35:18,987]\u001b[0m Trial 80 pruned. \u001b[0m\n",
      "Val acc: 64.12%, Val loss: 1.1473, LR 0.00400:   0%|                         | 0/20 [00:05<?, ?it/s]\n",
      "\u001b[32m[I 2021-09-23 09:35:24,716]\u001b[0m Trial 81 pruned. \u001b[0m\n",
      "Val acc: 82.26%, Val loss: 0.5587, LR 0.00400:   0%|                         | 0/20 [00:09<?, ?it/s]\n",
      "\u001b[32m[I 2021-09-23 09:35:33,796]\u001b[0m Trial 82 pruned. \u001b[0m\n",
      "Val acc: 85.52%, Val loss: 0.4571, LR 0.00400:   5%|▊                | 1/20 [00:17<05:32, 17.49s/it]\n",
      "\u001b[32m[I 2021-09-23 09:35:51,309]\u001b[0m Trial 83 pruned. \u001b[0m\n",
      "Val acc: 82.78%, Val loss: 0.5324, LR 0.00400:   0%|                         | 0/20 [00:09<?, ?it/s]\n",
      "\u001b[32m[I 2021-09-23 09:36:01,270]\u001b[0m Trial 84 pruned. \u001b[0m\n",
      "Val acc: 82.87%, Val loss: 0.5406, LR 0.00400:   0%|                         | 0/20 [00:04<?, ?it/s]\n",
      "\u001b[32m[I 2021-09-23 09:36:05,914]\u001b[0m Trial 85 pruned. \u001b[0m\n",
      "Val acc: 84.10%, Val loss: 0.4937, LR 0.00400:   0%|                         | 0/20 [00:04<?, ?it/s]\n",
      "\u001b[32m[I 2021-09-23 09:36:10,720]\u001b[0m Trial 86 pruned. \u001b[0m\n",
      "Val acc: 83.82%, Val loss: 0.5076, LR 0.00360:   0%|                         | 0/20 [00:08<?, ?it/s]\n",
      "\u001b[32m[I 2021-09-23 09:36:19,050]\u001b[0m Trial 87 pruned. \u001b[0m\n",
      "Val acc: 76.24%, Val loss: 0.7485, LR 0.00400:   0%|                         | 0/20 [00:04<?, ?it/s]\n",
      "\u001b[32m[I 2021-09-23 09:36:23,441]\u001b[0m Trial 88 pruned. \u001b[0m\n",
      "Val acc: 84.14%, Val loss: 0.4991, LR 0.00400:   0%|                         | 0/20 [00:08<?, ?it/s]\n",
      "\u001b[32m[I 2021-09-23 09:36:32,360]\u001b[0m Trial 89 pruned. \u001b[0m\n",
      "Val acc: 87.04%, Val loss: 0.4166, LR 0.00400:  15%|██▌              | 3/20 [00:33<03:09, 11.14s/it]\n",
      "\u001b[32m[I 2021-09-23 09:37:05,801]\u001b[0m Trial 90 pruned. \u001b[0m\n",
      "Val acc: 84.18%, Val loss: 0.4905, LR 0.00400:   0%|                         | 0/20 [00:04<?, ?it/s]\n",
      "\u001b[32m[I 2021-09-23 09:37:10,409]\u001b[0m Trial 91 pruned. \u001b[0m\n",
      "Val acc: 84.03%, Val loss: 0.4903, LR 0.00400:   0%|                         | 0/20 [00:04<?, ?it/s]\n",
      "\u001b[32m[I 2021-09-23 09:37:15,173]\u001b[0m Trial 92 pruned. \u001b[0m\n",
      "Val acc: 87.57%, Val loss: 0.3924, LR 0.00400:  15%|██▌              | 3/20 [00:18<01:47,  6.31s/it]\n",
      "\u001b[32m[I 2021-09-23 09:37:34,146]\u001b[0m Trial 93 pruned. \u001b[0m\n",
      "Val acc: 84.10%, Val loss: 0.4971, LR 0.00400:   0%|                         | 0/20 [00:04<?, ?it/s]\n",
      "\u001b[32m[I 2021-09-23 09:37:38,961]\u001b[0m Trial 94 pruned. \u001b[0m\n",
      "Val acc: 82.07%, Val loss: 0.5441, LR 0.00400:   0%|                         | 0/20 [00:04<?, ?it/s]\n",
      "\u001b[32m[I 2021-09-23 09:37:43,569]\u001b[0m Trial 95 pruned. \u001b[0m\n",
      "Val acc: 83.38%, Val loss: 0.5219, LR 0.00360:   0%|                         | 0/20 [00:04<?, ?it/s]\n",
      "\u001b[32m[I 2021-09-23 09:37:48,296]\u001b[0m Trial 96 pruned. \u001b[0m\n",
      "Val acc: 86.83%, Val loss: 0.4192, LR 0.00400:  15%|██▌              | 3/20 [00:35<03:18, 11.69s/it]\n",
      "\u001b[32m[I 2021-09-23 09:38:23,403]\u001b[0m Trial 97 pruned. \u001b[0m\n",
      "Val acc: 83.18%, Val loss: 0.5299, LR 0.00400:   0%|                         | 0/20 [00:04<?, ?it/s]\n",
      "\u001b[32m[I 2021-09-23 09:38:27,933]\u001b[0m Trial 98 pruned. \u001b[0m\n",
      "Val acc: 86.85%, Val loss: 0.4195, LR 0.00400:  10%|█▋               | 2/20 [00:14<02:07,  7.07s/it]\n",
      "\u001b[32m[I 2021-09-23 09:38:42,113]\u001b[0m Trial 99 pruned. \u001b[0m\n",
      "Val acc: 83.98%, Val loss: 0.4955, LR 0.00400:   0%|                         | 0/20 [00:09<?, ?it/s]\n",
      "\u001b[32m[I 2021-09-23 09:38:51,252]\u001b[0m Trial 100 pruned. \u001b[0m\n",
      "Val acc: 83.41%, Val loss: 0.5138, LR 0.00400:   0%|                         | 0/20 [00:04<?, ?it/s]\n",
      "\u001b[32m[I 2021-09-23 09:38:56,178]\u001b[0m Trial 101 pruned. \u001b[0m\n",
      "Val acc: 80.74%, Val loss: 0.6021, LR 0.00400:   0%|                         | 0/20 [00:04<?, ?it/s]\n",
      "\u001b[32m[I 2021-09-23 09:39:00,970]\u001b[0m Trial 102 pruned. \u001b[0m\n",
      "Val acc: 86.73%, Val loss: 0.4116, LR 0.00400:  10%|█▋               | 2/20 [00:13<02:04,  6.92s/it]\n",
      "\u001b[32m[I 2021-09-23 09:39:14,843]\u001b[0m Trial 103 pruned. \u001b[0m\n",
      "Val acc: 87.56%, Val loss: 0.3903, LR 0.00400:  15%|██▌              | 3/20 [00:19<01:50,  6.51s/it]\n",
      "\u001b[32m[I 2021-09-23 09:39:34,411]\u001b[0m Trial 104 pruned. \u001b[0m\n",
      "Val acc: 82.74%, Val loss: 0.5474, LR 0.00400:   0%|                         | 0/20 [00:04<?, ?it/s]\n",
      "\u001b[32m[I 2021-09-23 09:39:39,332]\u001b[0m Trial 105 pruned. \u001b[0m\n",
      "Val acc: 84.31%, Val loss: 0.4860, LR 0.00324:   5%|▊                | 1/20 [00:09<03:05,  9.78s/it]\n",
      "\u001b[32m[I 2021-09-23 09:39:49,154]\u001b[0m Trial 106 pruned. \u001b[0m\n",
      "Val acc: 85.45%, Val loss: 0.4473, LR 0.00400:   5%|▊                | 1/20 [00:18<05:47, 18.31s/it]\n",
      "\u001b[32m[I 2021-09-23 09:40:07,497]\u001b[0m Trial 107 pruned. \u001b[0m\n",
      "Val acc: 79.77%, Val loss: 0.6323, LR 0.00400:   0%|                         | 0/20 [00:06<?, ?it/s]\n",
      "\u001b[32m[I 2021-09-23 09:40:14,104]\u001b[0m Trial 108 pruned. \u001b[0m\n",
      "Val acc: 82.63%, Val loss: 0.5373, LR 0.00400:   0%|                         | 0/20 [00:04<?, ?it/s]\n",
      "\u001b[32m[I 2021-09-23 09:40:18,645]\u001b[0m Trial 109 pruned. \u001b[0m\n",
      "Val acc: 86.29%, Val loss: 0.4278, LR 0.00262:  15%|██▌              | 3/20 [00:32<03:05, 10.90s/it]\n",
      "\u001b[32m[I 2021-09-23 09:40:51,365]\u001b[0m Trial 110 pruned. \u001b[0m\n",
      "Val acc: 81.91%, Val loss: 0.5526, LR 0.00400:   0%|                         | 0/20 [00:08<?, ?it/s]\n",
      "\u001b[32m[I 2021-09-23 09:41:00,054]\u001b[0m Trial 111 pruned. \u001b[0m\n",
      "Val acc: 85.33%, Val loss: 0.4636, LR 0.00400:   5%|▊                | 1/20 [00:08<02:50,  8.95s/it]\n",
      "\u001b[32m[I 2021-09-23 09:41:09,038]\u001b[0m Trial 112 pruned. \u001b[0m\n",
      "Val acc: 82.94%, Val loss: 0.5454, LR 0.00400:   0%|                         | 0/20 [00:04<?, ?it/s]\n",
      "\u001b[32m[I 2021-09-23 09:41:13,587]\u001b[0m Trial 113 pruned. \u001b[0m\n",
      "Val acc: 81.69%, Val loss: 0.5956, LR 0.00400:   0%|                         | 0/20 [00:08<?, ?it/s]\n",
      "\u001b[32m[I 2021-09-23 09:41:22,314]\u001b[0m Trial 114 pruned. \u001b[0m\n",
      "Val acc: 85.07%, Val loss: 0.4636, LR 0.00400:   5%|▊                | 1/20 [00:17<05:26, 17.19s/it]\n",
      "\u001b[32m[I 2021-09-23 09:41:39,533]\u001b[0m Trial 115 pruned. \u001b[0m\n",
      "Val acc: 85.10%, Val loss: 0.4651, LR 0.00400:   5%|▊                | 1/20 [00:09<02:52,  9.08s/it]\n",
      "\u001b[32m[I 2021-09-23 09:41:48,652]\u001b[0m Trial 116 pruned. \u001b[0m\n",
      "Val acc: 85.04%, Val loss: 0.4611, LR 0.00400:   5%|▊                | 1/20 [00:08<02:48,  8.87s/it]\n",
      "\u001b[32m[I 2021-09-23 09:41:57,547]\u001b[0m Trial 117 pruned. \u001b[0m\n",
      "Val acc: 78.29%, Val loss: 0.6911, LR 0.00400:   0%|                         | 0/20 [00:03<?, ?it/s]\n",
      "\u001b[32m[I 2021-09-23 09:42:00,902]\u001b[0m Trial 118 pruned. \u001b[0m\n",
      "Val acc: 79.87%, Val loss: 0.6339, LR 0.00400:   0%|                         | 0/20 [00:04<?, ?it/s]\n",
      "\u001b[32m[I 2021-09-23 09:42:05,434]\u001b[0m Trial 119 pruned. \u001b[0m\n",
      "Val acc: 83.90%, Val loss: 0.5082, LR 0.00360:   0%|                         | 0/20 [00:04<?, ?it/s]\n",
      "\u001b[32m[I 2021-09-23 09:42:09,893]\u001b[0m Trial 120 pruned. \u001b[0m\n",
      "Val acc: 83.37%, Val loss: 0.5127, LR 0.00400:   0%|                         | 0/20 [00:08<?, ?it/s]\n",
      "\u001b[32m[I 2021-09-23 09:42:18,573]\u001b[0m Trial 121 pruned. \u001b[0m\n",
      "Val acc: 84.02%, Val loss: 0.4947, LR 0.00400:   0%|                         | 0/20 [00:08<?, ?it/s]\n",
      "\u001b[32m[I 2021-09-23 09:42:27,282]\u001b[0m Trial 122 pruned. \u001b[0m\n",
      "Val acc: 84.21%, Val loss: 0.4973, LR 0.00400:   0%|                         | 0/20 [00:08<?, ?it/s]\n",
      "\u001b[32m[I 2021-09-23 09:42:35,960]\u001b[0m Trial 123 pruned. \u001b[0m\n",
      "Val acc: 81.13%, Val loss: 0.5808, LR 0.00400:   0%|                         | 0/20 [00:08<?, ?it/s]\n",
      "\u001b[32m[I 2021-09-23 09:42:44,134]\u001b[0m Trial 124 pruned. \u001b[0m\n",
      "Val acc: 83.31%, Val loss: 0.5173, LR 0.00400:   0%|                         | 0/20 [00:04<?, ?it/s]\n",
      "\u001b[32m[I 2021-09-23 09:42:48,772]\u001b[0m Trial 125 pruned. \u001b[0m\n",
      "Val acc: 83.88%, Val loss: 0.5044, LR 0.00400:   0%|                         | 0/20 [00:08<?, ?it/s]\n",
      "\u001b[32m[I 2021-09-23 09:42:57,386]\u001b[0m Trial 126 pruned. \u001b[0m\n",
      "Val acc: 82.31%, Val loss: 0.5428, LR 0.00360:   0%|                         | 0/20 [00:04<?, ?it/s]\n",
      "\u001b[32m[I 2021-09-23 09:43:01,876]\u001b[0m Trial 127 pruned. \u001b[0m\n",
      "Val acc: 54.12%, Val loss: 1.3606, LR 0.00400:   0%|                         | 0/20 [00:04<?, ?it/s]\n",
      "\u001b[32m[I 2021-09-23 09:43:06,660]\u001b[0m Trial 128 pruned. \u001b[0m\n",
      "Val acc: 81.97%, Val loss: 0.5544, LR 0.00400:   0%|                         | 0/20 [00:04<?, ?it/s]\n",
      "\u001b[32m[I 2021-09-23 09:43:11,200]\u001b[0m Trial 129 pruned. \u001b[0m\n",
      "Val acc: 83.00%, Val loss: 0.5248, LR 0.00400:   0%|                         | 0/20 [00:09<?, ?it/s]\n",
      "\u001b[32m[I 2021-09-23 09:43:20,284]\u001b[0m Trial 130 pruned. \u001b[0m\n",
      "Val acc: 83.77%, Val loss: 0.5018, LR 0.00400:   0%|                         | 0/20 [00:08<?, ?it/s]\n",
      "\u001b[32m[I 2021-09-23 09:43:28,507]\u001b[0m Trial 131 pruned. \u001b[0m\n",
      "Val acc: 81.73%, Val loss: 0.5560, LR 0.00400:   0%|                         | 0/20 [00:08<?, ?it/s]\n",
      "\u001b[32m[I 2021-09-23 09:43:37,023]\u001b[0m Trial 132 pruned. \u001b[0m\n",
      "Val acc: 83.12%, Val loss: 0.5275, LR 0.00400:   0%|                         | 0/20 [00:09<?, ?it/s]\n",
      "\u001b[32m[I 2021-09-23 09:43:46,122]\u001b[0m Trial 133 pruned. \u001b[0m\n",
      "Val acc: 83.88%, Val loss: 0.5016, LR 0.00400:   0%|                         | 0/20 [00:08<?, ?it/s]\n",
      "\u001b[32m[I 2021-09-23 09:43:55,130]\u001b[0m Trial 134 pruned. \u001b[0m\n",
      "Val acc: 83.75%, Val loss: 0.5127, LR 0.00400:   0%|                         | 0/20 [00:09<?, ?it/s]\n",
      "\u001b[32m[I 2021-09-23 09:44:04,691]\u001b[0m Trial 135 pruned. \u001b[0m\n",
      "Val acc: 83.97%, Val loss: 0.4916, LR 0.00360:   0%|                         | 0/20 [00:04<?, ?it/s]\n",
      "\u001b[32m[I 2021-09-23 09:44:09,258]\u001b[0m Trial 136 pruned. \u001b[0m\n",
      "Val acc: 83.81%, Val loss: 0.5049, LR 0.00400:   0%|                         | 0/20 [00:08<?, ?it/s]\n",
      "\u001b[32m[I 2021-09-23 09:44:17,572]\u001b[0m Trial 137 pruned. \u001b[0m\n",
      "Val acc: 71.09%, Val loss: 0.9235, LR 0.00400:   0%|                         | 0/20 [00:02<?, ?it/s]\n",
      "\u001b[32m[I 2021-09-23 09:44:20,573]\u001b[0m Trial 138 pruned. \u001b[0m\n",
      "Val acc: 83.66%, Val loss: 0.5056, LR 0.00400:   0%|                         | 0/20 [00:09<?, ?it/s]\n",
      "\u001b[32m[I 2021-09-23 09:44:29,967]\u001b[0m Trial 139 pruned. \u001b[0m\n",
      "Val acc: 84.49%, Val loss: 0.4841, LR 0.00400:  10%|█▋               | 2/20 [00:14<02:12,  7.39s/it]\n",
      "\u001b[32m[I 2021-09-23 09:44:44,789]\u001b[0m Trial 140 pruned. \u001b[0m\n",
      "Val acc: 83.63%, Val loss: 0.5086, LR 0.00360:   0%|                         | 0/20 [00:09<?, ?it/s]\n",
      "\u001b[32m[I 2021-09-23 09:44:53,867]\u001b[0m Trial 141 pruned. \u001b[0m\n",
      "Val acc: 81.40%, Val loss: 0.5627, LR 0.00360:   0%|                         | 0/20 [00:08<?, ?it/s]\n",
      "\u001b[32m[I 2021-09-23 09:45:02,282]\u001b[0m Trial 142 pruned. \u001b[0m\n",
      "Val acc: 83.56%, Val loss: 0.5099, LR 0.00360:   0%|                         | 0/20 [00:08<?, ?it/s]\n",
      "\u001b[32m[I 2021-09-23 09:45:10,847]\u001b[0m Trial 143 pruned. \u001b[0m\n",
      "Val acc: 87.80%, Val loss: 0.3846, LR 0.00262:  15%|██▌              | 3/20 [00:33<03:08, 11.10s/it]\n",
      "\u001b[32m[I 2021-09-23 09:45:44,182]\u001b[0m Trial 144 pruned. \u001b[0m\n",
      "Val acc: 83.34%, Val loss: 0.5088, LR 0.00360:   0%|                         | 0/20 [00:08<?, ?it/s]\n",
      "\u001b[32m[I 2021-09-23 09:45:52,413]\u001b[0m Trial 145 pruned. \u001b[0m\n",
      "Val acc: 87.65%, Val loss: 0.3869, LR 0.00262:  15%|██▌              | 3/20 [00:18<01:44,  6.14s/it]\n",
      "\u001b[32m[I 2021-09-23 09:46:10,857]\u001b[0m Trial 146 pruned. \u001b[0m\n",
      "Val acc: 83.97%, Val loss: 0.4865, LR 0.00324:   5%|▊                | 1/20 [00:09<02:55,  9.23s/it]\n",
      "\u001b[32m[I 2021-09-23 09:46:20,130]\u001b[0m Trial 147 pruned. \u001b[0m\n",
      "Val acc: 86.45%, Val loss: 0.4167, LR 0.00292:  10%|█▋               | 2/20 [00:13<02:02,  6.78s/it]\n",
      "\u001b[32m[I 2021-09-23 09:46:33,720]\u001b[0m Trial 148 pruned. \u001b[0m\n",
      "Val acc: 85.01%, Val loss: 0.4727, LR 0.00324:   5%|▊                | 1/20 [00:09<02:56,  9.31s/it]\n",
      "\u001b[32m[I 2021-09-23 09:46:43,061]\u001b[0m Trial 149 pruned. \u001b[0m\n",
      "Val acc: 82.69%, Val loss: 0.5304, LR 0.00360:   0%|                         | 0/20 [00:04<?, ?it/s]\n",
      "\u001b[32m[I 2021-09-23 09:46:47,607]\u001b[0m Trial 150 pruned. \u001b[0m\n",
      "Val acc: 60.77%, Val loss: 1.2006, LR 0.00360:   0%|                         | 0/20 [00:02<?, ?it/s]\n",
      "\u001b[32m[I 2021-09-23 09:46:50,332]\u001b[0m Trial 151 pruned. \u001b[0m\n",
      "Val acc: 77.89%, Val loss: 0.6696, LR 0.00400:   0%|                         | 0/20 [00:08<?, ?it/s]\n",
      "\u001b[32m[I 2021-09-23 09:46:58,460]\u001b[0m Trial 152 pruned. \u001b[0m\n",
      "Val acc: 84.89%, Val loss: 0.4780, LR 0.00400:   5%|▊                | 1/20 [00:08<02:48,  8.89s/it]\n",
      "\u001b[32m[I 2021-09-23 09:47:07,380]\u001b[0m Trial 153 pruned. \u001b[0m\n",
      "Val acc: 84.05%, Val loss: 0.4996, LR 0.00360:   0%|                         | 0/20 [00:08<?, ?it/s]\n",
      "\u001b[32m[I 2021-09-23 09:47:15,542]\u001b[0m Trial 154 pruned. \u001b[0m\n",
      "Val acc: 83.70%, Val loss: 0.5042, LR 0.00400:   0%|                         | 0/20 [00:04<?, ?it/s]\n",
      "\u001b[32m[I 2021-09-23 09:47:20,043]\u001b[0m Trial 155 pruned. \u001b[0m\n",
      "Val acc: 86.82%, Val loss: 0.4128, LR 0.00400:  10%|█▋               | 2/20 [00:23<03:33, 11.87s/it]\n",
      "\u001b[32m[I 2021-09-23 09:47:43,810]\u001b[0m Trial 156 pruned. \u001b[0m\n",
      "Val acc: 81.91%, Val loss: 0.5661, LR 0.00400:   5%|▊                | 1/20 [00:08<02:47,  8.79s/it]\n",
      "\u001b[32m[I 2021-09-23 09:47:52,635]\u001b[0m Trial 157 pruned. \u001b[0m\n",
      "Val acc: 81.44%, Val loss: 0.5859, LR 0.00360:   0%|                         | 0/20 [00:07<?, ?it/s]\n",
      "\u001b[32m[I 2021-09-23 09:48:00,623]\u001b[0m Trial 158 pruned. \u001b[0m\n"
     ]
    },
    {
     "name": "stderr",
     "output_type": "stream",
     "text": [
      "Val acc: 85.27%, Val loss: 0.4649, LR 0.00400:   5%|▊                | 1/20 [00:15<05:02, 15.92s/it]\n",
      "\u001b[32m[I 2021-09-23 09:48:16,578]\u001b[0m Trial 159 pruned. \u001b[0m\n",
      "Val acc: 83.77%, Val loss: 0.5128, LR 0.00400:   0%|                         | 0/20 [00:04<?, ?it/s]\n",
      "\u001b[32m[I 2021-09-23 09:48:20,954]\u001b[0m Trial 160 pruned. \u001b[0m\n",
      "Val acc: 87.77%, Val loss: 0.3822, LR 0.00262:  15%|██▌              | 3/20 [00:31<02:59, 10.58s/it]\n",
      "\u001b[32m[I 2021-09-23 09:48:52,737]\u001b[0m Trial 161 pruned. \u001b[0m\n",
      "Val acc: 82.63%, Val loss: 0.5472, LR 0.72767:   0%|                         | 0/20 [00:05<?, ?it/s]\n",
      "\u001b[32m[I 2021-09-23 09:48:58,396]\u001b[0m Trial 162 pruned. \u001b[0m\n",
      "Val acc: 84.13%, Val loss: 0.4902, LR 0.00324:   5%|▊                | 1/20 [00:15<05:00, 15.82s/it]\n",
      "\u001b[32m[I 2021-09-23 09:49:14,243]\u001b[0m Trial 163 pruned. \u001b[0m\n",
      "Val acc: 85.20%, Val loss: 0.4673, LR 0.00324:   5%|▊                | 1/20 [00:16<05:19, 16.84s/it]\n",
      "\u001b[32m[I 2021-09-23 09:49:31,112]\u001b[0m Trial 164 pruned. \u001b[0m\n",
      "Val acc: 85.11%, Val loss: 0.4643, LR 0.00292:  10%|█▋               | 2/20 [00:23<03:35, 11.98s/it]\n",
      "\u001b[32m[I 2021-09-23 09:49:55,106]\u001b[0m Trial 165 pruned. \u001b[0m\n",
      "Val acc: 83.16%, Val loss: 0.5292, LR 0.00400:   0%|                         | 0/20 [00:07<?, ?it/s]\n",
      "\u001b[32m[I 2021-09-23 09:50:03,056]\u001b[0m Trial 166 pruned. \u001b[0m\n",
      "Val acc: 84.21%, Val loss: 0.4842, LR 0.00360:   0%|                         | 0/20 [00:04<?, ?it/s]\n",
      "\u001b[32m[I 2021-09-23 09:50:07,511]\u001b[0m Trial 167 pruned. \u001b[0m\n",
      "Val acc: 83.84%, Val loss: 0.5087, LR 0.00400:   0%|                         | 0/20 [00:08<?, ?it/s]\n",
      "\u001b[32m[I 2021-09-23 09:50:15,943]\u001b[0m Trial 168 pruned. \u001b[0m\n",
      "Val acc: 84.06%, Val loss: 0.5058, LR 0.00400:   0%|                         | 0/20 [00:04<?, ?it/s]\n",
      "\u001b[32m[I 2021-09-23 09:50:20,339]\u001b[0m Trial 169 pruned. \u001b[0m\n",
      "Val acc: 86.16%, Val loss: 0.4348, LR 0.00400:  15%|██▌              | 3/20 [00:32<03:01, 10.67s/it]\n",
      "\u001b[32m[I 2021-09-23 09:50:52,375]\u001b[0m Trial 170 pruned. \u001b[0m\n",
      "Val acc: 83.14%, Val loss: 0.5345, LR 0.00360:   0%|                         | 0/20 [00:07<?, ?it/s]\n",
      "\u001b[32m[I 2021-09-23 09:51:00,364]\u001b[0m Trial 171 pruned. \u001b[0m\n",
      "Val acc: 87.80%, Val loss: 0.3840, LR 0.00262:  15%|██▌              | 3/20 [00:31<02:59, 10.55s/it]\n",
      "\u001b[32m[I 2021-09-23 09:51:32,063]\u001b[0m Trial 172 pruned. \u001b[0m\n",
      "Val acc: 82.77%, Val loss: 0.5351, LR 0.00360:   0%|                         | 0/20 [00:07<?, ?it/s]\n",
      "\u001b[32m[I 2021-09-23 09:51:40,034]\u001b[0m Trial 173 pruned. \u001b[0m\n",
      "Val acc: 81.89%, Val loss: 0.5591, LR 0.00360:   0%|                         | 0/20 [00:07<?, ?it/s]\n",
      "\u001b[32m[I 2021-09-23 09:51:48,068]\u001b[0m Trial 174 pruned. \u001b[0m\n",
      "Val acc: 83.74%, Val loss: 0.5051, LR 0.00360:   0%|                         | 0/20 [00:07<?, ?it/s]\n",
      "\u001b[32m[I 2021-09-23 09:51:56,026]\u001b[0m Trial 175 pruned. \u001b[0m\n",
      "Val acc: 84.48%, Val loss: 0.4874, LR 0.00400:   5%|▊                | 1/20 [00:08<02:50,  9.00s/it]\n",
      "\u001b[32m[I 2021-09-23 09:52:05,073]\u001b[0m Trial 176 pruned. \u001b[0m\n",
      "Val acc: 60.55%, Val loss: 1.2775, LR 0.00360:   0%|                         | 0/20 [00:04<?, ?it/s]\n",
      "\u001b[32m[I 2021-09-23 09:52:09,808]\u001b[0m Trial 177 pruned. \u001b[0m\n",
      "Val acc: 82.46%, Val loss: 0.5513, LR 0.00400:   0%|                         | 0/20 [00:04<?, ?it/s]\n",
      "\u001b[32m[I 2021-09-23 09:52:14,265]\u001b[0m Trial 178 pruned. \u001b[0m\n",
      "Val acc: 83.81%, Val loss: 0.5026, LR 0.00400:   0%|                         | 0/20 [00:07<?, ?it/s]\n",
      "\u001b[32m[I 2021-09-23 09:52:22,308]\u001b[0m Trial 179 pruned. \u001b[0m\n",
      "Val acc: 83.38%, Val loss: 0.5228, LR 0.00360:   0%|                         | 0/20 [00:07<?, ?it/s]\n",
      "\u001b[32m[I 2021-09-23 09:52:30,277]\u001b[0m Trial 180 pruned. \u001b[0m\n",
      "Val acc: 83.66%, Val loss: 0.5045, LR 0.00360:   0%|                         | 0/20 [00:07<?, ?it/s]\n",
      "\u001b[32m[I 2021-09-23 09:52:38,240]\u001b[0m Trial 181 pruned. \u001b[0m\n",
      "Val acc: 89.35%, Val loss: 0.3490, LR 0.00067:  80%|████████████▊   | 16/20 [02:15<00:33,  8.50s/it]\n",
      "\u001b[32m[I 2021-09-23 09:54:54,216]\u001b[0m Trial 182 finished with value: 0.8929201364517212 and parameters: {'pooling': 'avg', 'convs': 3, 'BNs': 1, 'FCs': 1, 'Dropouts': 3, 'optimizer': 'swats', 'lr': 0.023897960496886948, 'lr_scheduler': 'exponential'}. Best is trial 182 with value: 0.8929201364517212.\u001b[0m\n"
     ]
    },
    {
     "name": "stdout",
     "output_type": "stream",
     "text": [
      "Early stopped at 17 epoch. Current val_acc: 0.8935399055480957. Highest val_acc: 0.8950655460357666\n"
     ]
    },
    {
     "name": "stderr",
     "output_type": "stream",
     "text": [
      "Val acc: 87.73%, Val loss: 0.3834, LR 0.00262:  15%|██▌              | 3/20 [00:31<02:59, 10.59s/it]\n",
      "\u001b[32m[I 2021-09-23 09:55:26,007]\u001b[0m Trial 183 pruned. \u001b[0m\n",
      "Val acc: 83.60%, Val loss: 0.5201, LR 0.00360:   0%|                         | 0/20 [00:07<?, ?it/s]\n",
      "\u001b[32m[I 2021-09-23 09:55:33,963]\u001b[0m Trial 184 pruned. \u001b[0m\n",
      "Val acc: 84.16%, Val loss: 0.4996, LR 0.00360:   0%|                         | 0/20 [00:08<?, ?it/s]\n",
      "\u001b[32m[I 2021-09-23 09:55:42,016]\u001b[0m Trial 185 pruned. \u001b[0m\n",
      "Val acc: 86.69%, Val loss: 0.4162, LR 0.00292:  10%|█▋               | 2/20 [00:23<03:33, 11.86s/it]\n",
      "\u001b[32m[I 2021-09-23 09:56:05,769]\u001b[0m Trial 186 pruned. \u001b[0m\n",
      "Val acc: 85.91%, Val loss: 0.4401, LR 0.00324:   5%|▊                | 1/20 [00:08<02:47,  8.82s/it]\n",
      "\u001b[32m[I 2021-09-23 09:56:14,623]\u001b[0m Trial 187 pruned. \u001b[0m\n",
      "Val acc: 82.93%, Val loss: 0.5297, LR 0.00360:   0%|                         | 0/20 [00:07<?, ?it/s]\n",
      "\u001b[32m[I 2021-09-23 09:56:22,621]\u001b[0m Trial 188 pruned. \u001b[0m\n",
      "Val acc: 86.70%, Val loss: 0.4178, LR 0.00292:  10%|█▋               | 2/20 [00:12<01:56,  6.50s/it]\n",
      "\u001b[32m[I 2021-09-23 09:56:35,646]\u001b[0m Trial 189 pruned. \u001b[0m\n",
      "Val acc: 84.18%, Val loss: 0.5026, LR 0.00360:   0%|                         | 0/20 [00:07<?, ?it/s]\n",
      "\u001b[32m[I 2021-09-23 09:56:43,600]\u001b[0m Trial 190 pruned. \u001b[0m\n",
      "Val acc: 83.68%, Val loss: 0.5000, LR 0.00400:   5%|▊                | 1/20 [00:15<05:02, 15.94s/it]\n",
      "\u001b[32m[I 2021-09-23 09:56:59,567]\u001b[0m Trial 191 pruned. \u001b[0m\n",
      "Val acc: 87.74%, Val loss: 0.3865, LR 0.00400:  15%|██▌              | 3/20 [00:31<03:00, 10.60s/it]\n",
      "\u001b[32m[I 2021-09-23 09:57:31,397]\u001b[0m Trial 192 pruned. \u001b[0m\n",
      "Val acc: 83.71%, Val loss: 0.5089, LR 0.00360:   0%|                         | 0/20 [00:07<?, ?it/s]\n",
      "\u001b[32m[I 2021-09-23 09:57:39,355]\u001b[0m Trial 193 pruned. \u001b[0m\n",
      "Val acc: 86.36%, Val loss: 0.4236, LR 0.00400:  10%|█▋               | 2/20 [00:25<03:46, 12.60s/it]\n",
      "\u001b[32m[I 2021-09-23 09:58:04,582]\u001b[0m Trial 194 pruned. \u001b[0m\n",
      "Val acc: 87.11%, Val loss: 0.4026, LR 0.00400:  15%|██▌              | 3/20 [00:33<03:11, 11.25s/it]\n",
      "\u001b[32m[I 2021-09-23 09:58:38,377]\u001b[0m Trial 195 pruned. \u001b[0m\n",
      "Val acc: 85.06%, Val loss: 0.4612, LR 0.00324:   5%|▊                | 1/20 [00:08<02:48,  8.84s/it]\n",
      "\u001b[32m[I 2021-09-23 09:58:47,265]\u001b[0m Trial 196 pruned. \u001b[0m\n",
      "Val acc: 83.91%, Val loss: 0.5000, LR 0.00400:   0%|                         | 0/20 [00:08<?, ?it/s]\n",
      "\u001b[32m[I 2021-09-23 09:58:55,358]\u001b[0m Trial 197 pruned. \u001b[0m\n",
      "Val acc: 86.44%, Val loss: 0.4279, LR 0.00400:  10%|█▋               | 2/20 [00:26<03:59, 13.28s/it]\n",
      "\u001b[32m[I 2021-09-23 09:59:21,957]\u001b[0m Trial 198 pruned. \u001b[0m\n",
      "Val acc: 87.31%, Val loss: 0.3996, LR 0.00262:  15%|██▌              | 3/20 [00:17<01:40,  5.89s/it]\n",
      "\u001b[32m[I 2021-09-23 09:59:39,654]\u001b[0m Trial 199 pruned. \u001b[0m\n"
     ]
    },
    {
     "name": "stdout",
     "output_type": "stream",
     "text": [
      "Study statistics: \n",
      "  Number of finished trials:  200\n",
      "  Number of pruned trials:  190\n",
      "  Number of complete trials:  10\n",
      "Best trial:\n",
      "  Value:  0.8929201364517212\n",
      "  Params: \n",
      "    pooling: avg\n",
      "    convs: 3\n",
      "    BNs: 1\n",
      "    FCs: 1\n",
      "    Dropouts: 3\n",
      "    optimizer: swats\n",
      "    lr: 0.023897960496886948\n",
      "    lr_scheduler: exponential\n"
     ]
    }
   ],
   "source": [
    "study = optuna.create_study(direction='maximize', study_name='Quickdraw classification optimization')\n",
    "study.optimize(objective, n_trials=200, timeout=11400)\n",
    "\n",
    "pruned_trials = study.get_trials(deepcopy=False, states=[TrialState.PRUNED])\n",
    "complete_trials = study.get_trials(deepcopy=False, states=[TrialState.COMPLETE])\n",
    "\n",
    "print(\"Study statistics: \")\n",
    "print(\"  Number of finished trials: \", len(study.trials))\n",
    "print(\"  Number of pruned trials: \", len(pruned_trials))\n",
    "print(\"  Number of complete trials: \", len(complete_trials))\n",
    "\n",
    "print(\"Best trial:\")\n",
    "trial = study.best_trial\n",
    "\n",
    "print(\"  Value: \", trial.value)\n",
    "\n",
    "print(\"  Params: \")\n",
    "for key, value in trial.params.items():\n",
    "    print(\"    {}: {}\".format(key, value))"
   ]
  },
  {
   "cell_type": "code",
   "execution_count": 55,
   "metadata": {},
   "outputs": [
    {
     "name": "stdout",
     "output_type": "stream",
     "text": [
      "----------------------------------------------------------------\n",
      "        Layer (type)               Output Shape         Param #\n",
      "================================================================\n",
      "            Conv2d-1           [-1, 16, 28, 28]             160\n",
      "              ReLU-2           [-1, 16, 28, 28]               0\n",
      "         AvgPool2d-3           [-1, 16, 14, 14]               0\n",
      "       BatchNorm2d-4           [-1, 16, 14, 14]              32\n",
      "            Conv2d-5           [-1, 32, 14, 14]           4,640\n",
      "              ReLU-6           [-1, 32, 14, 14]               0\n",
      "         AvgPool2d-7             [-1, 32, 7, 7]               0\n",
      "           Dropout-8             [-1, 32, 7, 7]               0\n",
      "            Conv2d-9             [-1, 64, 7, 7]          18,496\n",
      "             ReLU-10             [-1, 64, 7, 7]               0\n",
      "        AvgPool2d-11             [-1, 64, 3, 3]               0\n",
      "          Dropout-12             [-1, 64, 3, 3]               0\n",
      "           Conv2d-13            [-1, 128, 3, 3]          73,856\n",
      "             ReLU-14            [-1, 128, 3, 3]               0\n",
      "        AvgPool2d-15            [-1, 128, 1, 1]               0\n",
      "          Dropout-16            [-1, 128, 1, 1]               0\n",
      "AdaptiveAvgPool2d-17            [-1, 128, 1, 1]               0\n",
      "          Flatten-18                  [-1, 128]               0\n",
      "           Linear-19                   [-1, 10]           1,290\n",
      "================================================================\n",
      "Total params: 98,474\n",
      "Trainable params: 98,474\n",
      "Non-trainable params: 0\n",
      "----------------------------------------------------------------\n",
      "Input size (MB): 0.00\n",
      "Forward/backward pass size (MB): 0.44\n",
      "Params size (MB): 0.38\n",
      "Estimated Total Size (MB): 0.82\n",
      "----------------------------------------------------------------\n"
     ]
    }
   ],
   "source": [
    "# best found model\n",
    "model = Net(pooling='avg', convs=3, bns=1, fcs=1, dropouts=3)\n",
    "model.to(device)\n",
    "summary(model, (1, 28, 28))"
   ]
  },
  {
   "cell_type": "code",
   "execution_count": null,
   "metadata": {},
   "outputs": [],
   "source": [
    "# best optimizer\n",
    "optimizer = optim.swats.SWATS(model.parameters(), lr=0.023898)\n",
    "scheduler = 'exponential'\n",
    "score2 = torch_train(model, optimizer, early_stopping=True, epochs=30, batch_size=128, \n",
    "                    save_models=True, trial=None, scheduler=scheduler)"
   ]
  },
  {
   "cell_type": "code",
   "execution_count": 24,
   "metadata": {
    "scrolled": false
   },
   "outputs": [
    {
     "data": {
      "image/png": "[encoded data removed]",
      "text/plain": [
       "<Figure size 1080x720 with 4 Axes>"
      ]
     },
     "metadata": {},
     "output_type": "display_data"
    }
   ],
   "source": [
    "del model\n",
    "torch.cuda.empty_cache()\n",
    "plot_results([score, score2], ['Module 4 best model', 'Optuna best model'])"
   ]
  },
  {
   "cell_type": "markdown",
   "metadata": {},
   "source": [
    "## Architecture search with AutoKeras"
   ]
  },
  {
   "cell_type": "code",
   "execution_count": 71,
   "metadata": {},
   "outputs": [
    {
     "name": "stdout",
     "output_type": "stream",
     "text": [
      "Collecting autokeras\n",
      "  Downloading autokeras-1.0.16-py3-none-any.whl (166 kB)\n",
      "\u001b[K     |████████████████████████████████| 166 kB 3.6 MB/s eta 0:00:01\n",
      "\u001b[?25hRequirement already satisfied: scikit-learn in /home/jakub/anaconda3/envs/deep_learning/lib/python3.8/site-packages (from autokeras) (0.24.2)\n",
      "Requirement already satisfied: tensorflow<=2.5.0,>=2.3.0 in /home/jakub/anaconda3/envs/deep_learning/lib/python3.8/site-packages (from autokeras) (2.5.0)\n",
      "Requirement already satisfied: packaging in /home/jakub/anaconda3/envs/deep_learning/lib/python3.8/site-packages (from autokeras) (21.0)\n",
      "Requirement already satisfied: pandas in /home/jakub/anaconda3/envs/deep_learning/lib/python3.8/site-packages (from autokeras) (1.3.2)\n",
      "Collecting keras-tuner>=1.0.2\n",
      "  Downloading keras_tuner-1.0.4-py3-none-any.whl (97 kB)\n",
      "\u001b[K     |████████████████████████████████| 97 kB 4.8 MB/s  eta 0:00:01\n",
      "\u001b[?25hRequirement already satisfied: numpy in /home/jakub/anaconda3/envs/deep_learning/lib/python3.8/site-packages (from keras-tuner>=1.0.2->autokeras) (1.20.3)\n",
      "Requirement already satisfied: scipy in /home/jakub/anaconda3/envs/deep_learning/lib/python3.8/site-packages (from keras-tuner>=1.0.2->autokeras) (1.7.1)\n",
      "Collecting kt-legacy\n",
      "  Downloading kt_legacy-1.0.4-py3-none-any.whl (9.6 kB)\n",
      "Requirement already satisfied: ipython in /home/jakub/anaconda3/envs/deep_learning/lib/python3.8/site-packages (from keras-tuner>=1.0.2->autokeras) (7.26.0)\n",
      "Requirement already satisfied: tensorboard in /home/jakub/anaconda3/envs/deep_learning/lib/python3.8/site-packages (from keras-tuner>=1.0.2->autokeras) (2.6.0)\n",
      "Requirement already satisfied: requests in /home/jakub/anaconda3/envs/deep_learning/lib/python3.8/site-packages (from keras-tuner>=1.0.2->autokeras) (2.26.0)\n",
      "Collecting typing-extensions~=3.7.4\n",
      "  Downloading typing_extensions-3.7.4.3-py3-none-any.whl (22 kB)\n",
      "Collecting numpy\n",
      "  Downloading numpy-1.19.5-cp38-cp38-manylinux2010_x86_64.whl (14.9 MB)\n",
      "\u001b[K     |████████████████████████████████| 14.9 MB 11.0 MB/s eta 0:00:01\n",
      "\u001b[?25hRequirement already satisfied: wrapt~=1.12.1 in /home/jakub/anaconda3/envs/deep_learning/lib/python3.8/site-packages (from tensorflow<=2.5.0,>=2.3.0->autokeras) (1.12.1)\n",
      "Requirement already satisfied: opt-einsum~=3.3.0 in /home/jakub/anaconda3/envs/deep_learning/lib/python3.8/site-packages (from tensorflow<=2.5.0,>=2.3.0->autokeras) (3.3.0)\n",
      "Requirement already satisfied: absl-py~=0.10 in /home/jakub/anaconda3/envs/deep_learning/lib/python3.8/site-packages (from tensorflow<=2.5.0,>=2.3.0->autokeras) (0.12.0)\n",
      "Requirement already satisfied: gast==0.4.0 in /home/jakub/anaconda3/envs/deep_learning/lib/python3.8/site-packages (from tensorflow<=2.5.0,>=2.3.0->autokeras) (0.4.0)\n",
      "Requirement already satisfied: keras-preprocessing~=1.1.2 in /home/jakub/anaconda3/envs/deep_learning/lib/python3.8/site-packages (from tensorflow<=2.5.0,>=2.3.0->autokeras) (1.1.2)\n",
      "Requirement already satisfied: keras-nightly~=2.5.0.dev in /home/jakub/anaconda3/envs/deep_learning/lib/python3.8/site-packages (from tensorflow<=2.5.0,>=2.3.0->autokeras) (2.5.0.dev2021032900)\n",
      "Requirement already satisfied: wheel~=0.35 in /home/jakub/anaconda3/envs/deep_learning/lib/python3.8/site-packages (from tensorflow<=2.5.0,>=2.3.0->autokeras) (0.37.0)\n",
      "Requirement already satisfied: protobuf>=3.9.2 in /home/jakub/anaconda3/envs/deep_learning/lib/python3.8/site-packages (from tensorflow<=2.5.0,>=2.3.0->autokeras) (3.17.3)\n",
      "Requirement already satisfied: tensorflow-estimator<2.6.0,>=2.5.0rc0 in /home/jakub/anaconda3/envs/deep_learning/lib/python3.8/site-packages (from tensorflow<=2.5.0,>=2.3.0->autokeras) (2.5.0)\n",
      "Requirement already satisfied: flatbuffers~=1.12.0 in /home/jakub/anaconda3/envs/deep_learning/lib/python3.8/site-packages (from tensorflow<=2.5.0,>=2.3.0->autokeras) (1.12)\n",
      "Requirement already satisfied: astunparse~=1.6.3 in /home/jakub/anaconda3/envs/deep_learning/lib/python3.8/site-packages (from tensorflow<=2.5.0,>=2.3.0->autokeras) (1.6.3)\n",
      "Requirement already satisfied: termcolor~=1.1.0 in /home/jakub/anaconda3/envs/deep_learning/lib/python3.8/site-packages (from tensorflow<=2.5.0,>=2.3.0->autokeras) (1.1.0)\n",
      "Collecting six~=1.15.0\n",
      "  Downloading six-1.15.0-py2.py3-none-any.whl (10 kB)\n",
      "Requirement already satisfied: h5py~=3.1.0 in /home/jakub/anaconda3/envs/deep_learning/lib/python3.8/site-packages (from tensorflow<=2.5.0,>=2.3.0->autokeras) (3.1.0)\n",
      "Requirement already satisfied: grpcio~=1.34.0 in /home/jakub/anaconda3/envs/deep_learning/lib/python3.8/site-packages (from tensorflow<=2.5.0,>=2.3.0->autokeras) (1.34.1)\n",
      "Requirement already satisfied: google-pasta~=0.2 in /home/jakub/anaconda3/envs/deep_learning/lib/python3.8/site-packages (from tensorflow<=2.5.0,>=2.3.0->autokeras) (0.2.0)\n",
      "Requirement already satisfied: tensorboard-plugin-wit>=1.6.0 in /home/jakub/anaconda3/envs/deep_learning/lib/python3.8/site-packages (from tensorboard->keras-tuner>=1.0.2->autokeras) (1.8.0)\n",
      "Requirement already satisfied: google-auth<2,>=1.6.3 in /home/jakub/anaconda3/envs/deep_learning/lib/python3.8/site-packages (from tensorboard->keras-tuner>=1.0.2->autokeras) (1.34.0)\n",
      "Requirement already satisfied: markdown>=2.6.8 in /home/jakub/anaconda3/envs/deep_learning/lib/python3.8/site-packages (from tensorboard->keras-tuner>=1.0.2->autokeras) (3.3.4)\n",
      "Requirement already satisfied: werkzeug>=0.11.15 in /home/jakub/anaconda3/envs/deep_learning/lib/python3.8/site-packages (from tensorboard->keras-tuner>=1.0.2->autokeras) (2.0.1)\n",
      "Requirement already satisfied: tensorboard-data-server<0.7.0,>=0.6.0 in /home/jakub/anaconda3/envs/deep_learning/lib/python3.8/site-packages (from tensorboard->keras-tuner>=1.0.2->autokeras) (0.6.1)\n",
      "Requirement already satisfied: setuptools>=41.0.0 in /home/jakub/anaconda3/envs/deep_learning/lib/python3.8/site-packages (from tensorboard->keras-tuner>=1.0.2->autokeras) (52.0.0.post20210125)\n",
      "Requirement already satisfied: google-auth-oauthlib<0.5,>=0.4.1 in /home/jakub/anaconda3/envs/deep_learning/lib/python3.8/site-packages (from tensorboard->keras-tuner>=1.0.2->autokeras) (0.4.5)\n",
      "Requirement already satisfied: cachetools<5.0,>=2.0.0 in /home/jakub/anaconda3/envs/deep_learning/lib/python3.8/site-packages (from google-auth<2,>=1.6.3->tensorboard->keras-tuner>=1.0.2->autokeras) (4.2.2)\n",
      "Requirement already satisfied: pyasn1-modules>=0.2.1 in /home/jakub/anaconda3/envs/deep_learning/lib/python3.8/site-packages (from google-auth<2,>=1.6.3->tensorboard->keras-tuner>=1.0.2->autokeras) (0.2.8)\n",
      "Requirement already satisfied: rsa<5,>=3.1.4 in /home/jakub/anaconda3/envs/deep_learning/lib/python3.8/site-packages (from google-auth<2,>=1.6.3->tensorboard->keras-tuner>=1.0.2->autokeras) (4.7.2)\n",
      "Requirement already satisfied: requests-oauthlib>=0.7.0 in /home/jakub/anaconda3/envs/deep_learning/lib/python3.8/site-packages (from google-auth-oauthlib<0.5,>=0.4.1->tensorboard->keras-tuner>=1.0.2->autokeras) (1.3.0)\n",
      "Requirement already satisfied: pyasn1<0.5.0,>=0.4.6 in /home/jakub/anaconda3/envs/deep_learning/lib/python3.8/site-packages (from pyasn1-modules>=0.2.1->google-auth<2,>=1.6.3->tensorboard->keras-tuner>=1.0.2->autokeras) (0.4.8)\n",
      "Requirement already satisfied: charset-normalizer~=2.0.0 in /home/jakub/anaconda3/envs/deep_learning/lib/python3.8/site-packages (from requests->keras-tuner>=1.0.2->autokeras) (2.0.4)\n",
      "Requirement already satisfied: certifi>=2017.4.17 in /home/jakub/anaconda3/envs/deep_learning/lib/python3.8/site-packages (from requests->keras-tuner>=1.0.2->autokeras) (2021.5.30)\n",
      "Requirement already satisfied: idna<4,>=2.5 in /home/jakub/anaconda3/envs/deep_learning/lib/python3.8/site-packages (from requests->keras-tuner>=1.0.2->autokeras) (3.2)\n",
      "Requirement already satisfied: urllib3<1.27,>=1.21.1 in /home/jakub/anaconda3/envs/deep_learning/lib/python3.8/site-packages (from requests->keras-tuner>=1.0.2->autokeras) (1.26.6)\n",
      "Requirement already satisfied: oauthlib>=3.0.0 in /home/jakub/anaconda3/envs/deep_learning/lib/python3.8/site-packages (from requests-oauthlib>=0.7.0->google-auth-oauthlib<0.5,>=0.4.1->tensorboard->keras-tuner>=1.0.2->autokeras) (3.1.1)\n",
      "Requirement already satisfied: backcall in /home/jakub/anaconda3/envs/deep_learning/lib/python3.8/site-packages (from ipython->keras-tuner>=1.0.2->autokeras) (0.2.0)\n",
      "Requirement already satisfied: matplotlib-inline in /home/jakub/anaconda3/envs/deep_learning/lib/python3.8/site-packages (from ipython->keras-tuner>=1.0.2->autokeras) (0.1.2)\n",
      "Requirement already satisfied: prompt-toolkit!=3.0.0,!=3.0.1,<3.1.0,>=2.0.0 in /home/jakub/anaconda3/envs/deep_learning/lib/python3.8/site-packages (from ipython->keras-tuner>=1.0.2->autokeras) (3.0.17)\n",
      "Requirement already satisfied: traitlets>=4.2 in /home/jakub/anaconda3/envs/deep_learning/lib/python3.8/site-packages (from ipython->keras-tuner>=1.0.2->autokeras) (5.0.5)\n",
      "Requirement already satisfied: decorator in /home/jakub/anaconda3/envs/deep_learning/lib/python3.8/site-packages (from ipython->keras-tuner>=1.0.2->autokeras) (5.0.9)\n",
      "Requirement already satisfied: pickleshare in /home/jakub/anaconda3/envs/deep_learning/lib/python3.8/site-packages (from ipython->keras-tuner>=1.0.2->autokeras) (0.7.5)\n",
      "Requirement already satisfied: pygments in /home/jakub/anaconda3/envs/deep_learning/lib/python3.8/site-packages (from ipython->keras-tuner>=1.0.2->autokeras) (2.10.0)\n",
      "Requirement already satisfied: pexpect>4.3 in /home/jakub/anaconda3/envs/deep_learning/lib/python3.8/site-packages (from ipython->keras-tuner>=1.0.2->autokeras) (4.8.0)\n",
      "Requirement already satisfied: jedi>=0.16 in /home/jakub/anaconda3/envs/deep_learning/lib/python3.8/site-packages (from ipython->keras-tuner>=1.0.2->autokeras) (0.18.0)\n",
      "Requirement already satisfied: parso<0.9.0,>=0.8.0 in /home/jakub/anaconda3/envs/deep_learning/lib/python3.8/site-packages (from jedi>=0.16->ipython->keras-tuner>=1.0.2->autokeras) (0.8.2)\n",
      "Requirement already satisfied: ptyprocess>=0.5 in /home/jakub/anaconda3/envs/deep_learning/lib/python3.8/site-packages (from pexpect>4.3->ipython->keras-tuner>=1.0.2->autokeras) (0.7.0)\n"
     ]
    },
    {
     "name": "stdout",
     "output_type": "stream",
     "text": [
      "Requirement already satisfied: wcwidth in /home/jakub/anaconda3/envs/deep_learning/lib/python3.8/site-packages (from prompt-toolkit!=3.0.0,!=3.0.1,<3.1.0,>=2.0.0->ipython->keras-tuner>=1.0.2->autokeras) (0.2.5)\n",
      "Requirement already satisfied: ipython-genutils in /home/jakub/anaconda3/envs/deep_learning/lib/python3.8/site-packages (from traitlets>=4.2->ipython->keras-tuner>=1.0.2->autokeras) (0.2.0)\n",
      "Requirement already satisfied: pyparsing>=2.0.2 in /home/jakub/anaconda3/envs/deep_learning/lib/python3.8/site-packages (from packaging->autokeras) (2.4.7)\n",
      "Requirement already satisfied: python-dateutil>=2.7.3 in /home/jakub/anaconda3/envs/deep_learning/lib/python3.8/site-packages (from pandas->autokeras) (2.8.2)\n",
      "Requirement already satisfied: pytz>=2017.3 in /home/jakub/anaconda3/envs/deep_learning/lib/python3.8/site-packages (from pandas->autokeras) (2021.1)\n",
      "Requirement already satisfied: threadpoolctl>=2.0.0 in /home/jakub/anaconda3/envs/deep_learning/lib/python3.8/site-packages (from scikit-learn->autokeras) (2.2.0)\n",
      "Requirement already satisfied: joblib>=0.11 in /home/jakub/anaconda3/envs/deep_learning/lib/python3.8/site-packages (from scikit-learn->autokeras) (1.0.1)\n",
      "Installing collected packages: six, numpy, typing-extensions, kt-legacy, keras-tuner, autokeras\n",
      "  Attempting uninstall: six\n",
      "    Found existing installation: six 1.16.0\n",
      "    Uninstalling six-1.16.0:\n",
      "      Successfully uninstalled six-1.16.0\n",
      "  Attempting uninstall: numpy\n",
      "    Found existing installation: numpy 1.20.3\n",
      "    Uninstalling numpy-1.20.3:\n",
      "      Successfully uninstalled numpy-1.20.3\n",
      "  Attempting uninstall: typing-extensions\n",
      "    Found existing installation: typing-extensions 3.10.0.0\n",
      "    Uninstalling typing-extensions-3.10.0.0:\n",
      "      Successfully uninstalled typing-extensions-3.10.0.0\n",
      "\u001b[31mERROR: pip's dependency resolver does not currently take into account all the packages that are installed. This behaviour is the source of the following dependency conflicts.\n",
      "imgaug 0.4.0 requires opencv-python-headless, which is not installed.\n",
      "albumentations 1.0.3 requires opencv-python-headless>=4.1.1, which is not installed.\n",
      "aiohttp 3.7.4.post0 requires chardet<5.0,>=2.0, which is not installed.\u001b[0m\n",
      "Successfully installed autokeras-1.0.16 keras-tuner-1.0.4 kt-legacy-1.0.4 numpy-1.19.5 six-1.15.0 typing-extensions-3.7.4.3\n"
     ]
    }
   ],
   "source": [
    "!pip install autokeras"
   ]
  },
  {
   "cell_type": "code",
   "execution_count": 1,
   "metadata": {
    "scrolled": true
   },
   "outputs": [
    {
     "name": "stderr",
     "output_type": "stream",
     "text": [
      "2021-09-23 11:30:40.968154: I tensorflow/stream_executor/platform/default/dso_loader.cc:53] Successfully opened dynamic library libcudart.so.11.0\n",
      "2021-09-23 11:30:42.947081: I tensorflow/stream_executor/platform/default/dso_loader.cc:53] Successfully opened dynamic library libcuda.so.1\n",
      "2021-09-23 11:30:43.003174: I tensorflow/stream_executor/cuda/cuda_gpu_executor.cc:937] successful NUMA node read from SysFS had negative value (-1), but there must be at least one NUMA node, so returning NUMA node zero\n",
      "2021-09-23 11:30:43.003587: I tensorflow/core/common_runtime/gpu/gpu_device.cc:1733] Found device 0 with properties: \n",
      "pciBusID: 0000:01:00.0 name: NVIDIA GeForce GTX 1060 computeCapability: 6.1\n",
      "coreClock: 1.6705GHz coreCount: 10 deviceMemorySize: 5.94GiB deviceMemoryBandwidth: 178.99GiB/s\n",
      "2021-09-23 11:30:43.003620: I tensorflow/stream_executor/platform/default/dso_loader.cc:53] Successfully opened dynamic library libcudart.so.11.0\n",
      "2021-09-23 11:30:43.006637: I tensorflow/stream_executor/platform/default/dso_loader.cc:53] Successfully opened dynamic library libcublas.so.11\n",
      "2021-09-23 11:30:43.006712: I tensorflow/stream_executor/platform/default/dso_loader.cc:53] Successfully opened dynamic library libcublasLt.so.11\n",
      "2021-09-23 11:30:43.007791: I tensorflow/stream_executor/platform/default/dso_loader.cc:53] Successfully opened dynamic library libcufft.so.10\n",
      "2021-09-23 11:30:43.008073: I tensorflow/stream_executor/platform/default/dso_loader.cc:53] Successfully opened dynamic library libcurand.so.10\n",
      "2021-09-23 11:30:43.011462: I tensorflow/stream_executor/platform/default/dso_loader.cc:53] Successfully opened dynamic library libcusolver.so.11\n",
      "2021-09-23 11:30:43.012367: I tensorflow/stream_executor/platform/default/dso_loader.cc:53] Successfully opened dynamic library libcusparse.so.11\n",
      "2021-09-23 11:30:43.012689: I tensorflow/stream_executor/platform/default/dso_loader.cc:53] Successfully opened dynamic library libcudnn.so.8\n",
      "2021-09-23 11:30:43.012814: I tensorflow/stream_executor/cuda/cuda_gpu_executor.cc:937] successful NUMA node read from SysFS had negative value (-1), but there must be at least one NUMA node, so returning NUMA node zero\n",
      "2021-09-23 11:30:43.013259: I tensorflow/stream_executor/cuda/cuda_gpu_executor.cc:937] successful NUMA node read from SysFS had negative value (-1), but there must be at least one NUMA node, so returning NUMA node zero\n",
      "2021-09-23 11:30:43.013596: I tensorflow/core/common_runtime/gpu/gpu_device.cc:1871] Adding visible gpu devices: 0\n"
     ]
    }
   ],
   "source": [
    "import tensorflow as tf\n",
    "import autokeras as  ak\n",
    "\n",
    "for gpu in tf.config.list_physical_devices('GPU'):\n",
    "    tf.config.experimental.set_memory_growth(gpu, True)"
   ]
  },
  {
   "cell_type": "code",
   "execution_count": 90,
   "metadata": {},
   "outputs": [],
   "source": [
    "# adjust data shape for tensorflow\n",
    "X_train = X_train.squeeze()\n",
    "X_val = X_val.squeeze()"
   ]
  },
  {
   "cell_type": "code",
   "execution_count": 19,
   "metadata": {},
   "outputs": [
    {
     "name": "stdout",
     "output_type": "stream",
     "text": [
      "Trial 5 Complete [02h 36m 21s]\n",
      "val_accuracy: 0.5086798369884491\n",
      "\n",
      "Best val_accuracy So Far: 0.8177533745765686\n",
      "Total elapsed time: 04h 20m 14s\n",
      "INFO:tensorflow:Oracle triggered exit\n",
      "Epoch 1/15\n",
      "2622/2622 [==============================] - 154s 57ms/step - loss: 1.8036 - accuracy: 0.3828\n",
      "Epoch 2/15\n",
      "2622/2622 [==============================] - 149s 57ms/step - loss: 1.3390 - accuracy: 0.5537\n",
      "Epoch 3/15\n",
      "2622/2622 [==============================] - 149s 57ms/step - loss: 1.1015 - accuracy: 0.6354\n",
      "Epoch 4/15\n",
      "2622/2622 [==============================] - 150s 57ms/step - loss: 0.9393 - accuracy: 0.6906\n",
      "Epoch 5/15\n",
      "2622/2622 [==============================] - 160s 61ms/step - loss: 0.8223 - accuracy: 0.7315\n",
      "Epoch 6/15\n",
      "2622/2622 [==============================] - 148s 56ms/step - loss: 0.7346 - accuracy: 0.7601\n",
      "Epoch 7/15\n",
      "2622/2622 [==============================] - 146s 56ms/step - loss: 0.6637 - accuracy: 0.7850\n",
      "Epoch 8/15\n",
      "2622/2622 [==============================] - 146s 56ms/step - loss: 0.6098 - accuracy: 0.8024\n",
      "Epoch 9/15\n",
      "2622/2622 [==============================] - 146s 56ms/step - loss: 0.5650 - accuracy: 0.8160\n",
      "Epoch 10/15\n",
      "2622/2622 [==============================] - 147s 56ms/step - loss: 0.5265 - accuracy: 0.8292\n",
      "Epoch 11/15\n",
      "2622/2622 [==============================] - 160s 61ms/step - loss: 0.4920 - accuracy: 0.8406\n",
      "Epoch 12/15\n",
      "2622/2622 [==============================] - 160s 61ms/step - loss: 0.4627 - accuracy: 0.8515\n",
      "Epoch 13/15\n",
      "2622/2622 [==============================] - 172s 66ms/step - loss: 0.4377 - accuracy: 0.8582\n",
      "Epoch 14/15\n",
      "2622/2622 [==============================] - 172s 66ms/step - loss: 0.4063 - accuracy: 0.8692\n",
      "Epoch 15/15\n",
      "2622/2622 [==============================] - 171s 65ms/step - loss: 0.3833 - accuracy: 0.8757\n"
     ]
    },
    {
     "name": "stderr",
     "output_type": "stream",
     "text": [
      "2021-09-23 17:46:37.835847: W tensorflow/python/util/util.cc:348] Sets are not currently considered sequences, but this may change in the future, so consider avoiding using them.\n",
      "/home/jakub/anaconda3/envs/deep_learning/lib/python3.8/site-packages/tensorflow/python/keras/utils/generic_utils.py:494: CustomMaskWarning: Custom mask layers require a config and must override get_config. When loading, the custom mask layer must be passed to the custom_objects argument.\n",
      "  warnings.warn('Custom mask layers require a config and must override '\n"
     ]
    },
    {
     "name": "stdout",
     "output_type": "stream",
     "text": [
      "INFO:tensorflow:Assets written to: ./auto_model/best_model/assets\n"
     ]
    },
    {
     "data": {
      "text/plain": [
       "<tensorflow.python.keras.callbacks.History at 0x7f4fc16c5490>"
      ]
     },
     "execution_count": 19,
     "metadata": {},
     "output_type": "execute_result"
    }
   ],
   "source": [
    "input_node = ak.ImageInput()\n",
    "output_node = ak.ImageBlock(\n",
    "    block_type=\"resnet\",\n",
    "    normalize=True,\n",
    "    augment=True,\n",
    "    )(input_node)\n",
    "\n",
    "output_node = ak.ClassificationHead()(output_node)\n",
    "\n",
    "clf = ak.AutoModel(\n",
    "    inputs=input_node, \n",
    "    outputs=output_node, \n",
    "    overwrite=True, \n",
    "    max_trials=5,\n",
    "    objective='val_accuracy',\n",
    ")\n",
    "clf.fit(X_train, y_train, epochs=15)"
   ]
  },
  {
   "cell_type": "code",
   "execution_count": 105,
   "metadata": {},
   "outputs": [],
   "source": [
    "# longer training\n",
    "from tensorflow import keras\n",
    "model = keras.models.load_model('./auto_model/best_model/')"
   ]
  },
  {
   "cell_type": "code",
   "execution_count": 123,
   "metadata": {
    "scrolled": true
   },
   "outputs": [
    {
     "name": "stdout",
     "output_type": "stream",
     "text": [
      "Epoch 1/30\n",
      "2622/2622 [==============================] - 162s 60ms/step - loss: 0.7826 - accuracy: 0.7637 - val_loss: 0.6393 - val_accuracy: 0.8008\n",
      "Epoch 2/30\n",
      "2622/2622 [==============================] - 159s 61ms/step - loss: 0.6344 - accuracy: 0.8038 - val_loss: 0.6451 - val_accuracy: 0.7917\n",
      "Epoch 3/30\n",
      "2622/2622 [==============================] - 166s 63ms/step - loss: 0.5503 - accuracy: 0.8269 - val_loss: 0.4906 - val_accuracy: 0.8424\n",
      "Epoch 4/30\n",
      "2622/2622 [==============================] - 167s 64ms/step - loss: 0.5365 - accuracy: 0.8340 - val_loss: 0.4824 - val_accuracy: 0.8468\n",
      "Epoch 5/30\n",
      "2622/2622 [==============================] - 164s 63ms/step - loss: 0.4921 - accuracy: 0.8450 - val_loss: 0.4509 - val_accuracy: 0.8584\n",
      "Epoch 6/30\n",
      "2622/2622 [==============================] - 167s 64ms/step - loss: 0.4536 - accuracy: 0.8555 - val_loss: 0.4249 - val_accuracy: 0.8654\n",
      "Epoch 7/30\n",
      "2622/2622 [==============================] - 167s 64ms/step - loss: 0.4281 - accuracy: 0.8638 - val_loss: 0.4113 - val_accuracy: 0.8698\n",
      "Epoch 8/30\n",
      "2622/2622 [==============================] - 167s 64ms/step - loss: 0.4189 - accuracy: 0.8659 - val_loss: 0.4011 - val_accuracy: 0.8740\n",
      "Epoch 9/30\n",
      "2622/2622 [==============================] - 168s 64ms/step - loss: 0.3991 - accuracy: 0.8718 - val_loss: 0.3965 - val_accuracy: 0.8770\n",
      "Epoch 10/30\n",
      "2622/2622 [==============================] - 168s 64ms/step - loss: 0.3830 - accuracy: 0.8776 - val_loss: 0.5353 - val_accuracy: 0.8648\n",
      "Epoch 11/30\n",
      "2622/2622 [==============================] - 168s 64ms/step - loss: 0.3686 - accuracy: 0.8817 - val_loss: 0.4080 - val_accuracy: 0.8730\n",
      "Epoch 12/30\n",
      "2622/2622 [==============================] - 168s 64ms/step - loss: 0.3590 - accuracy: 0.8844 - val_loss: 0.3875 - val_accuracy: 0.8781\n",
      "Epoch 13/30\n",
      "2622/2622 [==============================] - 168s 64ms/step - loss: 0.3467 - accuracy: 0.8878 - val_loss: 0.3856 - val_accuracy: 0.8800\n",
      "Epoch 14/30\n",
      "2622/2622 [==============================] - 168s 64ms/step - loss: 0.3383 - accuracy: 0.8905 - val_loss: 0.3847 - val_accuracy: 0.8794\n",
      "Epoch 15/30\n",
      "2622/2622 [==============================] - 169s 64ms/step - loss: 0.3383 - accuracy: 0.8906 - val_loss: 0.3559 - val_accuracy: 0.8895\n",
      "Epoch 16/30\n",
      "2622/2622 [==============================] - 168s 64ms/step - loss: 0.3203 - accuracy: 0.8962 - val_loss: 0.3756 - val_accuracy: 0.8819\n",
      "Epoch 17/30\n",
      "2622/2622 [==============================] - 168s 64ms/step - loss: 0.3151 - accuracy: 0.8989 - val_loss: 0.4262 - val_accuracy: 0.8666\n",
      "Epoch 18/30\n",
      "2622/2622 [==============================] - 169s 64ms/step - loss: 0.3049 - accuracy: 0.9009 - val_loss: 0.3621 - val_accuracy: 0.8859\n",
      "Epoch 19/30\n",
      "2622/2622 [==============================] - 168s 64ms/step - loss: 0.2993 - accuracy: 0.9027 - val_loss: 0.3641 - val_accuracy: 0.8884\n",
      "Epoch 00019: early stopping\n"
     ]
    },
    {
     "data": {
      "text/plain": [
       "<tensorflow.python.keras.callbacks.History at 0x7f50e4984070>"
      ]
     },
     "execution_count": 123,
     "metadata": {},
     "output_type": "execute_result"
    }
   ],
   "source": [
    "model.compile(loss='sparse_categorical_crossentropy', optimizer='adam', metrics=['accuracy'])\n",
    "model.fit(X_train, \n",
    "          y_train, \n",
    "          epochs=30, \n",
    "          callbacks=tf.keras.callbacks.EarlyStopping(\n",
    "            monitor='val_accuracy',\n",
    "            patience=4,\n",
    "            verbose=1),\n",
    "          validation_data=(X_val, y_val),\n",
    "         shuffle=True)"
   ]
  },
  {
   "cell_type": "code",
   "execution_count": 99,
   "metadata": {},
   "outputs": [
    {
     "name": "stdout",
     "output_type": "stream",
     "text": [
      "Model: \"model\"\n",
      "__________________________________________________________________________________________________\n",
      "Layer (type)                    Output Shape         Param #     Connected to                     \n",
      "==================================================================================================\n",
      "input_1 (InputLayer)            [(None, 28, 28, 1)]  0                                            \n",
      "__________________________________________________________________________________________________\n",
      "cast_to_float32 (CastToFloat32) (None, 28, 28, 1)    0           input_1[0][0]                    \n",
      "__________________________________________________________________________________________________\n",
      "normalization (Normalization)   (None, 28, 28, 1)    3           cast_to_float32[0][0]            \n",
      "__________________________________________________________________________________________________\n",
      "random_flip (RandomFlip)        (None, 28, 28, 1)    0           normalization[0][0]              \n",
      "__________________________________________________________________________________________________\n",
      "resizing (Resizing)             (None, 32, 32, 1)    0           random_flip[0][0]                \n",
      "__________________________________________________________________________________________________\n",
      "concatenate (Concatenate)       (None, 32, 32, 3)    0           resizing[0][0]                   \n",
      "                                                                 resizing[0][0]                   \n",
      "                                                                 resizing[0][0]                   \n",
      "__________________________________________________________________________________________________\n",
      "resnet50v2 (Functional)         (None, 1, 1, 2048)   23564800    concatenate[0][0]                \n",
      "__________________________________________________________________________________________________\n",
      "flatten (Flatten)               (None, 2048)         0           resnet50v2[0][0]                 \n",
      "__________________________________________________________________________________________________\n",
      "dense (Dense)                   (None, 10)           20490       flatten[0][0]                    \n",
      "__________________________________________________________________________________________________\n",
      "classification_head_1 (Softmax) (None, 10)           0           dense[0][0]                      \n",
      "==================================================================================================\n",
      "Total params: 23,585,293\n",
      "Trainable params: 23,539,850\n",
      "Non-trainable params: 45,443\n",
      "__________________________________________________________________________________________________\n"
     ]
    }
   ],
   "source": [
    "best_ak_model.summary()"
   ]
  },
  {
   "cell_type": "code",
   "execution_count": 84,
   "metadata": {},
   "outputs": [],
   "source": [
    "X_val = X_val.squeeze()"
   ]
  },
  {
   "cell_type": "code",
   "execution_count": 124,
   "metadata": {},
   "outputs": [
    {
     "name": "stdout",
     "output_type": "stream",
     "text": [
      "656/656 [==============================] - 10s 15ms/step - loss: 0.3641 - accuracy: 0.8884\n",
      "Val loss: 0.3641, Val acc: 88.839%\n"
     ]
    }
   ],
   "source": [
    "val_loss, val_acc = model.evaluate(X_val, y_val)\n",
    "print('Val loss: {:.4f}, Val acc: {:.3f}%'.format(val_loss, 100*val_acc))"
   ]
  },
  {
   "cell_type": "markdown",
   "metadata": {},
   "source": [
    "# Summary / extra"
   ]
  },
  {
   "cell_type": "markdown",
   "metadata": {},
   "source": [
    "### Best architectures\n",
    " - Module 4 best model"
   ]
  },
  {
   "cell_type": "code",
   "execution_count": 62,
   "metadata": {},
   "outputs": [
    {
     "name": "stdout",
     "output_type": "stream",
     "text": [
      "----------------------------------------------------------------\n",
      "        Layer (type)               Output Shape         Param #\n",
      "================================================================\n",
      "            Conv2d-1            [-1, 8, 26, 26]              80\n",
      "              ReLU-2            [-1, 8, 26, 26]               0\n",
      "       BatchNorm2d-3            [-1, 8, 26, 26]              16\n",
      "            Conv2d-4           [-1, 32, 24, 24]           2,336\n",
      "              ReLU-5           [-1, 32, 24, 24]               0\n",
      "         MaxPool2d-6           [-1, 32, 12, 12]               0\n",
      "            Conv2d-7           [-1, 64, 10, 10]          18,496\n",
      "              ReLU-8           [-1, 64, 10, 10]               0\n",
      "         MaxPool2d-9             [-1, 64, 5, 5]               0\n",
      "           Conv2d-10            [-1, 128, 3, 3]          73,856\n",
      "             ReLU-11            [-1, 128, 3, 3]               0\n",
      "          Flatten-12                 [-1, 1152]               0\n",
      "           Linear-13                   [-1, 10]          11,530\n",
      "================================================================\n",
      "Total params: 106,314\n",
      "Trainable params: 106,314\n",
      "Non-trainable params: 0\n",
      "----------------------------------------------------------------\n",
      "Input size (MB): 0.00\n",
      "Forward/backward pass size (MB): 0.58\n",
      "Params size (MB): 0.41\n",
      "Estimated Total Size (MB): 0.99\n",
      "----------------------------------------------------------------\n"
     ]
    }
   ],
   "source": [
    "summary(NetBN().to(device), (1, 28, 28))"
   ]
  },
  {
   "cell_type": "markdown",
   "metadata": {},
   "source": [
    " - Optuna best model"
   ]
  },
  {
   "cell_type": "code",
   "execution_count": 63,
   "metadata": {},
   "outputs": [
    {
     "name": "stdout",
     "output_type": "stream",
     "text": [
      "----------------------------------------------------------------\n",
      "        Layer (type)               Output Shape         Param #\n",
      "================================================================\n",
      "            Conv2d-1           [-1, 16, 28, 28]             160\n",
      "              ReLU-2           [-1, 16, 28, 28]               0\n",
      "         AvgPool2d-3           [-1, 16, 14, 14]               0\n",
      "       BatchNorm2d-4           [-1, 16, 14, 14]              32\n",
      "            Conv2d-5           [-1, 32, 14, 14]           4,640\n",
      "              ReLU-6           [-1, 32, 14, 14]               0\n",
      "         AvgPool2d-7             [-1, 32, 7, 7]               0\n",
      "           Dropout-8             [-1, 32, 7, 7]               0\n",
      "            Conv2d-9             [-1, 64, 7, 7]          18,496\n",
      "             ReLU-10             [-1, 64, 7, 7]               0\n",
      "        AvgPool2d-11             [-1, 64, 3, 3]               0\n",
      "          Dropout-12             [-1, 64, 3, 3]               0\n",
      "           Conv2d-13            [-1, 128, 3, 3]          73,856\n",
      "             ReLU-14            [-1, 128, 3, 3]               0\n",
      "        AvgPool2d-15            [-1, 128, 1, 1]               0\n",
      "          Dropout-16            [-1, 128, 1, 1]               0\n",
      "AdaptiveAvgPool2d-17            [-1, 128, 1, 1]               0\n",
      "          Flatten-18                  [-1, 128]               0\n",
      "           Linear-19                   [-1, 10]           1,290\n",
      "================================================================\n",
      "Total params: 98,474\n",
      "Trainable params: 98,474\n",
      "Non-trainable params: 0\n",
      "----------------------------------------------------------------\n",
      "Input size (MB): 0.00\n",
      "Forward/backward pass size (MB): 0.44\n",
      "Params size (MB): 0.38\n",
      "Estimated Total Size (MB): 0.82\n",
      "----------------------------------------------------------------\n"
     ]
    }
   ],
   "source": [
    "summary(Net(pooling='avg', convs=3, bns=1, fcs=1, dropouts=3).to(device),\n",
    "       (1, 28, 28))"
   ]
  },
  {
   "cell_type": "markdown",
   "metadata": {},
   "source": [
    " - AutoKeras best model"
   ]
  },
  {
   "cell_type": "code",
   "execution_count": 64,
   "metadata": {},
   "outputs": [
    {
     "name": "stdout",
     "output_type": "stream",
     "text": [
      "Model: \"model\"\n",
      "__________________________________________________________________________________________________\n",
      "Layer (type)                    Output Shape         Param #     Connected to                     \n",
      "==================================================================================================\n",
      "input_1 (InputLayer)            [(None, 28, 28, 1)]  0                                            \n",
      "__________________________________________________________________________________________________\n",
      "cast_to_float32 (CastToFloat32) (None, 28, 28, 1)    0           input_1[0][0]                    \n",
      "__________________________________________________________________________________________________\n",
      "normalization (Normalization)   (None, 28, 28, 1)    3           cast_to_float32[0][0]            \n",
      "__________________________________________________________________________________________________\n",
      "random_flip (RandomFlip)        (None, 28, 28, 1)    0           normalization[0][0]              \n",
      "__________________________________________________________________________________________________\n",
      "resizing (Resizing)             (None, 32, 32, 1)    0           random_flip[0][0]                \n",
      "__________________________________________________________________________________________________\n",
      "concatenate (Concatenate)       (None, 32, 32, 3)    0           resizing[0][0]                   \n",
      "                                                                 resizing[0][0]                   \n",
      "                                                                 resizing[0][0]                   \n",
      "__________________________________________________________________________________________________\n",
      "resnet50v2 (Functional)         (None, 1, 1, 2048)   23564800    concatenate[0][0]                \n",
      "__________________________________________________________________________________________________\n",
      "flatten (Flatten)               (None, 2048)         0           resnet50v2[0][0]                 \n",
      "__________________________________________________________________________________________________\n",
      "dense (Dense)                   (None, 10)           20490       flatten[0][0]                    \n",
      "__________________________________________________________________________________________________\n",
      "classification_head_1 (Softmax) (None, 10)           0           dense[0][0]                      \n",
      "==================================================================================================\n",
      "Total params: 23,585,293\n",
      "Trainable params: 23,539,850\n",
      "Non-trainable params: 45,443\n",
      "__________________________________________________________________________________________________\n"
     ]
    }
   ],
   "source": [
    "best_ak_model = clf.export_model()\n",
    "best_ak_model.summary()"
   ]
  },
  {
   "cell_type": "code",
   "execution_count": 127,
   "metadata": {},
   "outputs": [
    {
     "name": "stdout",
     "output_type": "stream",
     "text": [
      "+----------------------------------------+\n",
      "|              HPO Results               |\n",
      "+------------+------------+--------------+\n",
      "| Model_name | Parameters | Val accuracy |\n",
      "+------------+------------+--------------+\n",
      "|   Optuna   |   98474    |    89.44%    |\n",
      "| AutoKeras  |  23585293  |    88.39%    |\n",
      "|  Module 4  |   106314   |    87.12%    |\n",
      "+------------+------------+--------------+\n"
     ]
    }
   ],
   "source": [
    "from prettytable import PrettyTable\n",
    "summary = PrettyTable()\n",
    "\n",
    "# ak_model_params\n",
    "trainableParams = np.sum([np.prod(v.get_shape()) for v in best_ak_model.trainable_weights])\n",
    "nonTrainableParams = np.sum([np.prod(v.get_shape()) for v in best_ak_model.non_trainable_weights])\n",
    "ak_model_params = trainableParams + nonTrainableParams\n",
    "\n",
    "summary.field_names = ['Model_name', 'Parameters', 'Val accuracy']\n",
    "summary.add_row(['Optuna', count_model_params(Net(pooling='avg', convs=3, bns=1, fcs=1, dropouts=3)), '89.44%'])\n",
    "summary.add_row(['AutoKeras', int(ak_model_params), '88.39%'])\n",
    "summary.add_row(['Module 4', count_model_params(NetBN()), '87.12%'])\n",
    "summary.title = 'HPO Results'\n",
    "print(summary)"
   ]
  },
  {
   "cell_type": "markdown",
   "metadata": {},
   "source": [
    "# Wyślij rozwiązanie\n",
    "Możesz skorzystać z jednego z poniższych sposobów:\n",
    "**mailem na specjalny adres** ze strony pracy domowej w panelu programu prześlij jedno z poniższych:\n",
    "- notebooka (jeżeli plik ma mniej niż np. 10MB)\n",
    "- notebooka w zipie\n",
    "- link do Colaba (udostępniony)\n",
    "- link do pliku przez GDrive/Dropboxa/WeTransfer/...\n",
    "- pdfa (poprzez download as pdf)\n",
    "- jako plik w repozytorium na np. GitHubie, by budować swoje portfolio (wtedy uważaj na wielkość pliku, najlepiej kilka MB, Max 25MB)\n",
    "\n",
    "Najlepiej, by w notebooku było widać wyniki uruchomienia komórek, chyba, że przez nie plik będzie mieć 100+MB wtedy najlepiej Colab lub jakieś przemyślenie co poszło nie tak (zbyt dużo dużych zdjęć wyświetlonych w komórkach).\n",
    "\n",
    "## Co otrzymasz?\n",
    "Informację zwrotną z ewentualnymi sugestiami, komentarzami."
   ]
  }
 ],
 "metadata": {
  "kernelspec": {
   "display_name": "Python [conda env:deep_learning] *",
   "language": "python",
   "name": "conda-env-deep_learning-py"
  },
  "language_info": {
   "codemirror_mode": {
    "name": "ipython",
    "version": 3
   },
   "file_extension": ".py",
   "mimetype": "text/x-python",
   "name": "python",
   "nbconvert_exporter": "python",
   "pygments_lexer": "ipython3",
   "version": "3.8.11"
  }
 },
 "nbformat": 4,
 "nbformat_minor": 4
}

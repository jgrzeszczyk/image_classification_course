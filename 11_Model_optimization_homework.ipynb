{
 "cells": [
  {
   "cell_type": "markdown",
   "metadata": {},
   "source": [
    "# DDPLKO Moduł 11 - praca domowa - Optymalizacja modelu\n",
    "\n",
    "To jedenasta praca domowa w Programie szkoleniowym Klasyfikacja obrazu od Deep Drive PL\n",
    "\n",
    "Twoim zadaniem w tym module będzie:\n",
    "- [ ] Wykonanie optymalizacji jednego ze swoich modeli: modelu do klasyfikacji rysunków z QuickDraw, modelu wytrenowanego z wykorzystaniem transfer learningu, modelu do klasyfikacji binarnej\n",
    "- [ ] Możesz wykorzystać pruning lub kwantyzację\n",
    "- [ ] Porównaj Validation accuracy przed i po optymalizaji\n",
    "- [ ] Porównaj wielkość zapisanych modeli - przed i po optymalizaji (rozmiar pliku zip z modelem)\n",
    "- [ ] Udostępnij porównanie validation accuracy dla Twojego modelu przed i po optymalizacji wraz rozmiarami pliku zip na Discordzie `#klasyfikacja-wyniki`\n",
    "\n",
    "Extra - dodatkowo możesz:\n",
    "- Jeżeli masz kartę graficzną Nvidia'i, możesz spróbować wykorzystać TensorRT\n",
    "- Wykonać wykres pruning-rate vs val-acc, by pokazać zależność Validation Accuracy od wartości pruningu (użyj early stoppingu w treningach)"
   ]
  },
  {
   "cell_type": "markdown",
   "metadata": {},
   "source": [
    "# Dataset preparation"
   ]
  },
  {
   "cell_type": "code",
   "execution_count": 1,
   "metadata": {},
   "outputs": [],
   "source": [
    "import urllib\n",
    "import numpy as np\n",
    "import matplotlib.pyplot as plt\n",
    "import os"
   ]
  },
  {
   "cell_type": "code",
   "execution_count": 2,
   "metadata": {},
   "outputs": [
    {
     "name": "stdout",
     "output_type": "stream",
     "text": [
      "donut           <class 'numpy.ndarray'>\n",
      "alarm clock     <class 'numpy.ndarray'>\n",
      "baseball        <class 'numpy.ndarray'>\n",
      "blueberry       <class 'numpy.ndarray'>\n",
      "cookie          <class 'numpy.ndarray'>\n",
      "compass         <class 'numpy.ndarray'>\n",
      "hamburger       <class 'numpy.ndarray'>\n",
      "soccer ball     <class 'numpy.ndarray'>\n",
      "wheel           <class 'numpy.ndarray'>\n",
      "watermelon      <class 'numpy.ndarray'>\n"
     ]
    }
   ],
   "source": [
    "class_names=['donut', 'alarm clock', 'baseball', 'blueberry', 'cookie', \n",
    "             'compass', 'hamburger', 'soccer ball', 'wheel', 'watermelon']\n",
    "\n",
    "for name in class_names:\n",
    "    url = 'https://storage.googleapis.com/quickdraw_dataset/full/numpy_bitmap/%s.npy'%name\n",
    "    file_name = url.split('/')[-1].split('?')[0]\n",
    "\n",
    "    url = url.replace(' ','%20')\n",
    "    \n",
    "    if not os.path.isfile(file_name):\n",
    "        print(url, '==>', file_name)\n",
    "        urllib.request.urlretrieve(url, file_name)\n",
    "        \n",
    "data = []\n",
    "for name in class_names:\n",
    "    file_name = name+'.npy'\n",
    "    data.append(np.load(file_name, fix_imports=True, allow_pickle=True))\n",
    "    print('%-15s'%name,type(data[-1]))"
   ]
  },
  {
   "cell_type": "code",
   "execution_count": 3,
   "metadata": {},
   "outputs": [],
   "source": [
    "# Reduced data\n",
    "for idx in range(len(data)):\n",
    "    data[idx] = data[idx][:int(0.25*data[idx].shape[0]), :]\n",
    "    \n",
    "data = [_.reshape(-1, 28, 28) for _ in data]"
   ]
  },
  {
   "cell_type": "code",
   "execution_count": 4,
   "metadata": {},
   "outputs": [],
   "source": [
    "# Reshape data to tf format\n",
    "X = np.reshape((np.concatenate(data)), (-1, 28, 28, 1))\n",
    "y = np.concatenate([[idx]*len(category) for idx, category in enumerate(data)])"
   ]
  },
  {
   "cell_type": "code",
   "execution_count": 5,
   "metadata": {},
   "outputs": [],
   "source": [
    "# Data normalization\n",
    "X = X / 255"
   ]
  },
  {
   "cell_type": "code",
   "execution_count": 6,
   "metadata": {},
   "outputs": [],
   "source": [
    "# Train, test, val split\n",
    "from sklearn.model_selection import train_test_split\n",
    "X_train, X_val, y_train, y_val = train_test_split(\n",
    "                        X, y, train_size=0.8, test_size=0.2, stratify=y)"
   ]
  },
  {
   "cell_type": "markdown",
   "metadata": {},
   "source": [
    "# Model"
   ]
  },
  {
   "cell_type": "code",
   "execution_count": 7,
   "metadata": {},
   "outputs": [],
   "source": [
    "import seaborn as sns\n",
    "sns.set(style='whitegrid', font_scale=1.5)\n",
    "import tensorflow as tf\n",
    "\n",
    "for gpu in tf.config.list_physical_devices('GPU'):\n",
    "    tf.config.experimental.set_memory_growth(gpu, True)"
   ]
  },
  {
   "cell_type": "code",
   "execution_count": 8,
   "metadata": {},
   "outputs": [
    {
     "name": "stdout",
     "output_type": "stream",
     "text": [
      "Model: \"sequential\"\n",
      "_________________________________________________________________\n",
      " Layer (type)                Output Shape              Param #   \n",
      "=================================================================\n",
      " conv2d (Conv2D)             (None, 28, 28, 4)         40        \n",
      "                                                                 \n",
      " average_pooling2d (AverageP  (None, 14, 14, 4)        0         \n",
      " ooling2D)                                                       \n",
      "                                                                 \n",
      " conv2d_1 (Conv2D)           (None, 14, 14, 32)        1184      \n",
      "                                                                 \n",
      " average_pooling2d_1 (Averag  (None, 7, 7, 32)         0         \n",
      " ePooling2D)                                                     \n",
      "                                                                 \n",
      " conv2d_2 (Conv2D)           (None, 7, 7, 64)          18496     \n",
      "                                                                 \n",
      " average_pooling2d_2 (Averag  (None, 3, 3, 64)         0         \n",
      " ePooling2D)                                                     \n",
      "                                                                 \n",
      " conv2d_3 (Conv2D)           (None, 3, 3, 256)         147712    \n",
      "                                                                 \n",
      " flatten (Flatten)           (None, 2304)              0         \n",
      "                                                                 \n",
      " dense (Dense)               (None, 10)                23050     \n",
      "                                                                 \n",
      "=================================================================\n",
      "Total params: 190,482\n",
      "Trainable params: 190,482\n",
      "Non-trainable params: 0\n",
      "_________________________________________________________________\n"
     ]
    }
   ],
   "source": [
    "def getModel():\n",
    "    model = tf.keras.models.Sequential([\n",
    "                tf.keras.layers.Conv2D(4, (3, 3), padding='same', activation='relu', input_shape=(28, 28, 1)),\n",
    "                tf.keras.layers.AvgPool2D(),\n",
    "                tf.keras.layers.Conv2D(32, (3, 3), padding='same', activation='relu'),\n",
    "                tf.keras.layers.AvgPool2D(),\n",
    "                tf.keras.layers.Conv2D(64, (3, 3), padding='same', activation='relu'),\n",
    "                tf.keras.layers.AvgPool2D(),\n",
    "                tf.keras.layers.Conv2D(256, (3, 3), padding='same', activation='relu'),\n",
    "                tf.keras.layers.Flatten(),\n",
    "                tf.keras.layers.Dense(10, activation='softmax')])\n",
    "    model.compile(optimizer='adam',\n",
    "                 loss='sparse_categorical_crossentropy',\n",
    "                 metrics=['accuracy'])\n",
    "    return model\n",
    "model = getModel()\n",
    "model.summary()"
   ]
  },
  {
   "cell_type": "code",
   "execution_count": 9,
   "metadata": {},
   "outputs": [
    {
     "name": "stdout",
     "output_type": "stream",
     "text": [
      "Epoch 1/30\n",
      "4097/4097 [==============================] - 21s 5ms/step - loss: 0.7187 - accuracy: 0.7703 - val_loss: 0.5393 - val_accuracy: 0.8276\n",
      "Epoch 2/30\n",
      "4097/4097 [==============================] - 18s 4ms/step - loss: 0.4916 - accuracy: 0.8438 - val_loss: 0.4622 - val_accuracy: 0.8553\n",
      "Epoch 3/30\n",
      "4097/4097 [==============================] - 18s 4ms/step - loss: 0.4293 - accuracy: 0.8627 - val_loss: 0.4465 - val_accuracy: 0.8600\n",
      "Epoch 4/30\n",
      "4097/4097 [==============================] - 18s 4ms/step - loss: 0.3908 - accuracy: 0.8750 - val_loss: 0.4102 - val_accuracy: 0.8702\n",
      "Epoch 5/30\n",
      "4097/4097 [==============================] - 18s 5ms/step - loss: 0.3620 - accuracy: 0.8842 - val_loss: 0.3929 - val_accuracy: 0.8776\n",
      "Epoch 6/30\n",
      "4097/4097 [==============================] - 19s 5ms/step - loss: 0.3392 - accuracy: 0.8909 - val_loss: 0.3756 - val_accuracy: 0.8827\n",
      "Epoch 7/30\n",
      "4097/4097 [==============================] - 19s 5ms/step - loss: 0.3197 - accuracy: 0.8965 - val_loss: 0.3812 - val_accuracy: 0.8823\n",
      "Epoch 8/30\n",
      "4097/4097 [==============================] - 19s 5ms/step - loss: 0.2999 - accuracy: 0.9031 - val_loss: 0.3846 - val_accuracy: 0.8836\n",
      "Epoch 9/30\n",
      "4097/4097 [==============================] - 19s 5ms/step - loss: 0.2816 - accuracy: 0.9079 - val_loss: 0.3967 - val_accuracy: 0.8805\n",
      "Epoch 10/30\n",
      "4097/4097 [==============================] - 19s 5ms/step - loss: 0.2654 - accuracy: 0.9127 - val_loss: 0.3888 - val_accuracy: 0.8811\n",
      "Epoch 11/30\n",
      "4096/4097 [============================>.] - ETA: 0s - loss: 0.2496 - accuracy: 0.9177Restoring model weights from the end of the best epoch: 6.\n",
      "4097/4097 [==============================] - 20s 5ms/step - loss: 0.2497 - accuracy: 0.9177 - val_loss: 0.4031 - val_accuracy: 0.8822\n",
      "Epoch 00011: early stopping\n"
     ]
    }
   ],
   "source": [
    "epochs = 30\n",
    "batch_size = 64\n",
    "\n",
    "history = model.fit(X_train, y_train,\n",
    "                    epochs=epochs, \n",
    "                    batch_size=batch_size, \n",
    "                    validation_data=(X_val, y_val),\n",
    "                   callbacks=[tf.keras.callbacks.EarlyStopping(\n",
    "                   monitor='val_loss', \n",
    "                       patience=5, \n",
    "                       verbose=1, \n",
    "                       min_delta=0.001,\n",
    "                       mode='min',\n",
    "                       restore_best_weights=True,\n",
    "                   )])"
   ]
  },
  {
   "cell_type": "code",
   "execution_count": 10,
   "metadata": {},
   "outputs": [],
   "source": [
    "def plot_history(history, title):\n",
    "    plt.figure(figsize=(15,7))\n",
    "    plt.suptitle(title, fontsize=20)\n",
    "    \n",
    "    plt.subplot(121)\n",
    "    plt.plot(history.history['accuracy'], label='train')\n",
    "    plt.plot(history.history['val_accuracy'], label='val')\n",
    "    plt.ylabel('accuracy')\n",
    "    plt.xlabel('epoch')\n",
    "    plt.legend()\n",
    "    \n",
    "    plt.subplot(122)\n",
    "    plt.plot(history.history['loss'], label='train')\n",
    "    plt.plot(history.history['val_loss'], label='val')\n",
    "    plt.ylabel('loss')\n",
    "    plt.xlabel('epoch')\n",
    "    plt.legend()"
   ]
  },
  {
   "cell_type": "code",
   "execution_count": 11,
   "metadata": {},
   "outputs": [
    {
     "data": {
      "image/png": "[encoded data removed]",
      "text/plain": [
       "<Figure size 1080x504 with 2 Axes>"
      ]
     },
     "metadata": {
      "needs_background": "light"
     },
     "output_type": "display_data"
    }
   ],
   "source": [
    "%matplotlib inline\n",
    "plot_history(history, 'Baseline Training')"
   ]
  },
  {
   "cell_type": "code",
   "execution_count": 12,
   "metadata": {},
   "outputs": [],
   "source": [
    "tf.keras.models.save_model(model, 'model_baseline.h5', include_optimizer=False)"
   ]
  },
  {
   "cell_type": "markdown",
   "metadata": {},
   "source": [
    "# Optymalizacja modelu"
   ]
  },
  {
   "cell_type": "code",
   "execution_count": 11,
   "metadata": {},
   "outputs": [],
   "source": [
    "import tensorflow_model_optimization as tfmot"
   ]
  },
  {
   "cell_type": "code",
   "execution_count": 15,
   "metadata": {},
   "outputs": [
    {
     "name": "stdout",
     "output_type": "stream",
     "text": [
      "Model: \"sequential\"\n",
      "_________________________________________________________________\n",
      " Layer (type)                Output Shape              Param #   \n",
      "=================================================================\n",
      " quantize_layer (QuantizeLay  (None, 28, 28, 1)        3         \n",
      " er)                                                             \n",
      "                                                                 \n",
      " quant_conv2d (QuantizeWrapp  (None, 28, 28, 4)        51        \n",
      " erV2)                                                           \n",
      "                                                                 \n",
      " quant_average_pooling2d (Qu  (None, 14, 14, 4)        3         \n",
      " antizeWrapperV2)                                                \n",
      "                                                                 \n",
      " quant_conv2d_1 (QuantizeWra  (None, 14, 14, 32)       1251      \n",
      " pperV2)                                                         \n",
      "                                                                 \n",
      " quant_average_pooling2d_1 (  (None, 7, 7, 32)         3         \n",
      " QuantizeWrapperV2)                                              \n",
      "                                                                 \n",
      " quant_conv2d_2 (QuantizeWra  (None, 7, 7, 64)         18627     \n",
      " pperV2)                                                         \n",
      "                                                                 \n",
      " quant_average_pooling2d_2 (  (None, 3, 3, 64)         3         \n",
      " QuantizeWrapperV2)                                              \n",
      "                                                                 \n",
      " quant_conv2d_3 (QuantizeWra  (None, 3, 3, 256)        148227    \n",
      " pperV2)                                                         \n",
      "                                                                 \n",
      " quant_flatten (QuantizeWrap  (None, 2304)             1         \n",
      " perV2)                                                          \n",
      "                                                                 \n",
      " quant_dense (QuantizeWrappe  (None, 10)               23055     \n",
      " rV2)                                                            \n",
      "                                                                 \n",
      "=================================================================\n",
      "Total params: 191,224\n",
      "Trainable params: 190,482\n",
      "Non-trainable params: 742\n",
      "_________________________________________________________________\n"
     ]
    }
   ],
   "source": [
    "quantize_model = tfmot.quantization.keras.quantize_model\n",
    "\n",
    "q_aware_model = quantize_model(model)\n",
    "q_aware_model.compile(optimizer='adam',\n",
    "                     loss='sparse_categorical_crossentropy',\n",
    "                     metrics=['accuracy'])\n",
    "\n",
    "q_aware_model.summary()"
   ]
  },
  {
   "cell_type": "markdown",
   "metadata": {},
   "source": [
    "## Fine-tuning with quantization aware training"
   ]
  },
  {
   "cell_type": "code",
   "execution_count": 16,
   "metadata": {},
   "outputs": [
    {
     "name": "stdout",
     "output_type": "stream",
     "text": [
      "Epoch 1/30\n",
      "4097/4097 [==============================] - 46s 11ms/step - loss: 0.2600 - accuracy: 0.9149 - val_loss: 0.4065 - val_accuracy: 0.8800\n",
      "Epoch 2/30\n",
      "4097/4097 [==============================] - 42s 10ms/step - loss: 0.2425 - accuracy: 0.9198 - val_loss: 0.3973 - val_accuracy: 0.8803\n",
      "Epoch 3/30\n",
      "4097/4097 [==============================] - 43s 10ms/step - loss: 0.2269 - accuracy: 0.9247 - val_loss: 0.4231 - val_accuracy: 0.8760\n",
      "Epoch 4/30\n",
      "4097/4097 [==============================] - 43s 10ms/step - loss: 0.2124 - accuracy: 0.9293 - val_loss: 0.4310 - val_accuracy: 0.8744\n",
      "Epoch 5/30\n",
      "4097/4097 [==============================] - 43s 11ms/step - loss: 0.1969 - accuracy: 0.9338 - val_loss: 0.4438 - val_accuracy: 0.8743\n",
      "Epoch 6/30\n",
      "4097/4097 [==============================] - 43s 11ms/step - loss: 0.1837 - accuracy: 0.9378 - val_loss: 0.4717 - val_accuracy: 0.8753\n",
      "Epoch 7/30\n",
      "4096/4097 [============================>.] - ETA: 0s - loss: 0.1705 - accuracy: 0.9418Restoring model weights from the end of the best epoch: 2.\n",
      "4097/4097 [==============================] - 43s 10ms/step - loss: 0.1705 - accuracy: 0.9418 - val_loss: 0.4951 - val_accuracy: 0.8711\n",
      "Epoch 00007: early stopping\n"
     ]
    }
   ],
   "source": [
    "q_aware_history = q_aware_model.fit(X_train, y_train,\n",
    "                    epochs=epochs, \n",
    "                    batch_size=batch_size, \n",
    "                    validation_data=(X_val, y_val),\n",
    "                   callbacks=[tf.keras.callbacks.EarlyStopping(\n",
    "                   monitor='val_loss', \n",
    "                       patience=5, \n",
    "                       verbose=1, \n",
    "                       min_delta=0.001,\n",
    "                       mode='min',\n",
    "                       restore_best_weights=True,\n",
    "                   )])"
   ]
  },
  {
   "cell_type": "code",
   "execution_count": 18,
   "metadata": {},
   "outputs": [
    {
     "name": "stdout",
     "output_type": "stream",
     "text": [
      "WARNING:tensorflow:No training configuration found in the save file, so the model was *not* compiled. Compile it manually.\n",
      "Model: \"sequential\"\n",
      "_________________________________________________________________\n",
      " Layer (type)                Output Shape              Param #   \n",
      "=================================================================\n",
      " quantize_layer (QuantizeLay  (None, 28, 28, 1)        3         \n",
      " er)                                                             \n",
      "                                                                 \n",
      " quant_conv2d (QuantizeWrapp  (None, 28, 28, 4)        51        \n",
      " erV2)                                                           \n",
      "                                                                 \n",
      " quant_average_pooling2d (Qu  (None, 14, 14, 4)        3         \n",
      " antizeWrapperV2)                                                \n",
      "                                                                 \n",
      " quant_conv2d_1 (QuantizeWra  (None, 14, 14, 32)       1251      \n",
      " pperV2)                                                         \n",
      "                                                                 \n",
      " quant_average_pooling2d_1 (  (None, 7, 7, 32)         3         \n",
      " QuantizeWrapperV2)                                              \n",
      "                                                                 \n",
      " quant_conv2d_2 (QuantizeWra  (None, 7, 7, 64)         18627     \n",
      " pperV2)                                                         \n",
      "                                                                 \n",
      " quant_average_pooling2d_2 (  (None, 3, 3, 64)         3         \n",
      " QuantizeWrapperV2)                                              \n",
      "                                                                 \n",
      " quant_conv2d_3 (QuantizeWra  (None, 3, 3, 256)        148227    \n",
      " pperV2)                                                         \n",
      "                                                                 \n",
      " quant_flatten (QuantizeWrap  (None, 2304)             1         \n",
      " perV2)                                                          \n",
      "                                                                 \n",
      " quant_dense (QuantizeWrappe  (None, 10)               23055     \n",
      " rV2)                                                            \n",
      "                                                                 \n",
      "=================================================================\n",
      "Total params: 191,224\n",
      "Trainable params: 190,482\n",
      "Non-trainable params: 742\n",
      "_________________________________________________________________\n"
     ]
    }
   ],
   "source": [
    "tf.keras.models.save_model(q_aware_model, 'q_aware_model.h5', include_optimizer=False)\n",
    "\n",
    "with tfmot.quantization.keras.quantize_scope():\n",
    "    q_aware_model = tf.keras.models.load_model('q_aware_model.h5')\n",
    "    \n",
    "q_aware_model.summary()"
   ]
  },
  {
   "cell_type": "code",
   "execution_count": 19,
   "metadata": {},
   "outputs": [
    {
     "name": "stderr",
     "output_type": "stream",
     "text": [
      "WARNING:absl:Found untraced functions such as conv2d_layer_call_fn, conv2d_layer_call_and_return_conditional_losses, conv2d_1_layer_call_fn, conv2d_1_layer_call_and_return_conditional_losses, conv2d_2_layer_call_fn while saving (showing 5 of 30). These functions will not be directly callable after loading.\n"
     ]
    },
    {
     "name": "stdout",
     "output_type": "stream",
     "text": [
      "INFO:tensorflow:Assets written to: /tmp/tmp5whpv1qh/assets\n"
     ]
    },
    {
     "name": "stderr",
     "output_type": "stream",
     "text": [
      "INFO:tensorflow:Assets written to: /tmp/tmp5whpv1qh/assets\n",
      "WARNING:absl:Buffer deduplication procedure will be skipped when flatbuffer library is not properly loaded\n"
     ]
    }
   ],
   "source": [
    "converter = tf.lite.TFLiteConverter.from_keras_model(q_aware_model)\n",
    "converter.optimizations = [tf.lite.Optimize.DEFAULT]\n",
    "\n",
    "model_quantized = converter.convert()"
   ]
  },
  {
   "cell_type": "code",
   "execution_count": 21,
   "metadata": {},
   "outputs": [],
   "source": [
    "with open('model_quantized.tflite', 'wb') as f:\n",
    "    f.write(model_quantized)"
   ]
  },
  {
   "cell_type": "code",
   "execution_count": 22,
   "metadata": {},
   "outputs": [
    {
     "name": "stdout",
     "output_type": "stream",
     "text": [
      "WARNING:tensorflow:No training configuration found in the save file, so the model was *not* compiled. Compile it manually.\n"
     ]
    },
    {
     "name": "stderr",
     "output_type": "stream",
     "text": [
      "WARNING:tensorflow:No training configuration found in the save file, so the model was *not* compiled. Compile it manually.\n"
     ]
    },
    {
     "name": "stdout",
     "output_type": "stream",
     "text": [
      "INFO:tensorflow:Assets written to: /tmp/tmpt8164lcc/assets\n"
     ]
    },
    {
     "name": "stderr",
     "output_type": "stream",
     "text": [
      "INFO:tensorflow:Assets written to: /tmp/tmpt8164lcc/assets\n",
      "WARNING:absl:Buffer deduplication procedure will be skipped when flatbuffer library is not properly loaded\n"
     ]
    }
   ],
   "source": [
    "# Post-training quantization - dynamic range\n",
    "\n",
    "model_baseline = tf.keras.models.load_model('model_baseline.h5')\n",
    "\n",
    "converter = tf.lite.TFLiteConverter.from_keras_model(model_baseline)\n",
    "converter.optimizations = [tf.lite.Optimize.DEFAULT]\n",
    "baseline_quant = converter.convert()"
   ]
  },
  {
   "cell_type": "markdown",
   "metadata": {},
   "source": [
    "# Porównanie przed i po - Validation Accuracy"
   ]
  },
  {
   "cell_type": "code",
   "execution_count": 10,
   "metadata": {},
   "outputs": [],
   "source": [
    "def evaluate_model(interpreter):\n",
    "    input_index = interpreter.get_input_details()[0][\"index\"]\n",
    "    output_index = interpreter.get_output_details()[0][\"index\"]\n",
    "    \n",
    "    type_ = interpreter.get_input_details()[0][\"dtype\"]\n",
    "    if type_.__name__ == 'uint8':\n",
    "        X = X_test_255\n",
    "        in_type = np.uint8\n",
    "    else:\n",
    "        X = X_test\n",
    "        in_type = np.float32\n",
    "\n",
    "    # Run predictions on every image in the \"test\" dataset.\n",
    "    prediction_digits = []\n",
    "    for test_image in tqdm(X):\n",
    "    # Pre-processing: add batch dimension and convert to in_type to match with the model's input data format\n",
    "        test_image = np.expand_dims(test_image, axis=0).astype(in_type)\n",
    "        interpreter.set_tensor(input_index, test_image)\n",
    "\n",
    "        # Run inference\n",
    "        interpreter.invoke()\n",
    "\n",
    "        # Post-processing: remove batch dimension and find the digit with highest probability\n",
    "        output = interpreter.tensor(output_index)\n",
    "        digit = np.argmax(output()[0])\n",
    "        prediction_digits.append(digit)\n",
    "\n",
    "    # Compare prediction results with ground truth labels to calculate accuracy\n",
    "    prediction_digits = np.array(prediction_digits)\n",
    "    accuracy = (prediction_digits == y_test).mean()\n",
    "    \n",
    "    return accuracy"
   ]
  },
  {
   "cell_type": "code",
   "execution_count": 29,
   "metadata": {},
   "outputs": [
    {
     "name": "stderr",
     "output_type": "stream",
     "text": [
      "100%|██████████| 16388/16388 [01:49<00:00, 149.39it/s]\n"
     ]
    }
   ],
   "source": [
    "from tqdm import tqdm\n",
    "X_test, y_test = X_val[::4], y_val[::4]\n",
    "\n",
    "interpreter = tf.lite.Interpreter(model_content=baseline_quant)\n",
    "interpreter.allocate_tensors()\n",
    "\n",
    "acc_baseline_quant = evaluate_model(interpreter)"
   ]
  },
  {
   "cell_type": "code",
   "execution_count": 32,
   "metadata": {},
   "outputs": [],
   "source": [
    "_, acc_baseline = model.evaluate(X_test, y_test, verbose=0)\n",
    "q_aware_model.compile(optimizer='adam',\n",
    "                     loss='sparse_categorical_crossentropy',\n",
    "                     metrics=['accuracy'])\n",
    "_, acc_q_aware = q_aware_model.evaluate(X_test, y_test, verbose=0)"
   ]
  },
  {
   "cell_type": "code",
   "execution_count": 33,
   "metadata": {},
   "outputs": [
    {
     "name": "stderr",
     "output_type": "stream",
     "text": [
      "100%|██████████| 16388/16388 [01:48<00:00, 150.38it/s]\n"
     ]
    }
   ],
   "source": [
    "interpreter = tf.lite.Interpreter(model_content=model_quantized)\n",
    "interpreter.allocate_tensors()\n",
    "\n",
    "acc_quantized = evaluate_model(interpreter)"
   ]
  },
  {
   "cell_type": "code",
   "execution_count": 36,
   "metadata": {},
   "outputs": [
    {
     "name": "stdout",
     "output_type": "stream",
     "text": [
      "Validation accuracy:\n",
      "--------------------\n",
      "Baseline:  0.9142665266990662\n",
      "Baseline post-training quant:  0.9137783744203075\n",
      "Quantization aware model:  0.922870397567749\n",
      "Quantized TFLite model:  0.9229314132291921\n"
     ]
    }
   ],
   "source": [
    "print('Validation accuracy:')\n",
    "print('-'*20)\n",
    "print('Baseline: ', acc_baseline)\n",
    "print('Baseline post-training quant: ', acc_baseline_quant)\n",
    "print('Quantization aware model: ', acc_q_aware)\n",
    "print('Quantized TFLite model: ', acc_quantized)"
   ]
  },
  {
   "cell_type": "code",
   "execution_count": 38,
   "metadata": {},
   "outputs": [
    {
     "data": {
      "text/plain": [
       "Text(0.5, 0, '% error')"
      ]
     },
     "execution_count": 38,
     "metadata": {},
     "output_type": "execute_result"
    },
    {
     "data": {
      "image/png": "[encoded data removed]",
      "text/plain": [
       "<Figure size 720x216 with 1 Axes>"
      ]
     },
     "metadata": {
      "needs_background": "light"
     },
     "output_type": "display_data"
    }
   ],
   "source": [
    "plt.figure(figsize=(10, 3))\n",
    "plt.title('Val error')\n",
    "\n",
    "results = [acc_baseline, acc_baseline_quant, acc_q_aware, acc_quantized]\n",
    "labels = ['Baseline', 'Baseline post-training quant', 'Quantization aware', 'Quantized TFLite']\n",
    "for label, result in zip(labels, results):\n",
    "    plt.barh(label, (1-result)*100)\n",
    "plt.xlabel('% error')"
   ]
  },
  {
   "cell_type": "markdown",
   "metadata": {},
   "source": [
    "# Porównanie przed i po - Model size"
   ]
  },
  {
   "cell_type": "code",
   "execution_count": 40,
   "metadata": {},
   "outputs": [
    {
     "name": "stdout",
     "output_type": "stream",
     "text": [
      "INFO:tensorflow:Assets written to: /tmp/tmpkh6c9zxd/assets\n"
     ]
    },
    {
     "name": "stderr",
     "output_type": "stream",
     "text": [
      "INFO:tensorflow:Assets written to: /tmp/tmpkh6c9zxd/assets\n",
      "WARNING:absl:Buffer deduplication procedure will be skipped when flatbuffer library is not properly loaded\n"
     ]
    }
   ],
   "source": [
    "float_converter = tf.lite.TFLiteConverter.from_keras_model(model)\n",
    "baseline_tflite_model = float_converter.convert()"
   ]
  },
  {
   "cell_type": "code",
   "execution_count": 41,
   "metadata": {},
   "outputs": [],
   "source": [
    "with open('model_baseline.tflite', 'wb') as f:\n",
    "    f.write(baseline_tflite_model)"
   ]
  },
  {
   "cell_type": "code",
   "execution_count": 47,
   "metadata": {},
   "outputs": [
    {
     "name": "stdout",
     "output_type": "stream",
     "text": [
      "+-----------------------------------------------------+\n",
      "|              Model optimization summary             |\n",
      "+------------+--------------------+-------------------+\n",
      "| Model name | Model size [bytes] |   Val error [%]   |\n",
      "+------------+--------------------+-------------------+\n",
      "|  Baseline  |       765584       | 8.573347330093384 |\n",
      "| Quantized  |       206352       | 7.706858677080786 |\n",
      "+------------+--------------------+-------------------+\n"
     ]
    }
   ],
   "source": [
    "from prettytable import PrettyTable\n",
    "import os\n",
    "\n",
    "summary = PrettyTable()\n",
    "summary.title = 'Model optimization summary'\n",
    "summary.field_names = ['Model name', 'Model size [bytes]', 'Val error [%]']\n",
    "\n",
    "\n",
    "summary.add_row(['Baseline', os.path.getsize('model_baseline.zip'), (1-acc_baseline)*100])\n",
    "summary.add_row(['Quantized', os.path.getsize('model_quantized.zip'), (1-acc_quantized)*100])\n",
    "\n",
    "\n",
    "print(summary)"
   ]
  },
  {
   "cell_type": "markdown",
   "metadata": {},
   "source": [
    "# Summary / extra"
   ]
  },
  {
   "cell_type": "markdown",
   "metadata": {},
   "source": [
    "## Pruning rate vs val-acc"
   ]
  },
  {
   "cell_type": "code",
   "execution_count": 12,
   "metadata": {},
   "outputs": [],
   "source": [
    "prune_epochs = 30\n",
    "num_images = X_train.shape[0]\n",
    "end_step = np.ceil(num_images / batch_size).astype(np.int32) * prune_epochs"
   ]
  },
  {
   "cell_type": "code",
   "execution_count": 45,
   "metadata": {},
   "outputs": [],
   "source": [
    "pruning_rates = [0.1, 0.2, 0.3, 0.4, 0.5, 0.6, 0.7, 0.8]"
   ]
  },
  {
   "cell_type": "code",
   "execution_count": null,
   "metadata": {},
   "outputs": [],
   "source": [
    "prune_low_magnitude = tfmot.sparsity.keras.prune_low_magnitude\n",
    "\n",
    "\n",
    "pruning_params = [{'pruning_schedule': tfmot.sparsity.keras.PolynomialDecay(initial_sparsity=0.0,\n",
    "                                                                           final_sparsity=sparsity,\n",
    "                                                                           begin_step=0,\n",
    "                                                                           end_step=end_step,\n",
    "                                                                           frequency=100)} \n",
    "                  for sparsity in pruning_rates]\n",
    "\n",
    "callbacks = [tfmot.sparsity.keras.UpdatePruningStep(), # callback obowiązkowy podczas pruningu\n",
    "             tfmot.sparsity.keras.PruningSummaries(log_dir='./prune_summary'),\n",
    "            tf.keras.callbacks.EarlyStopping(\n",
    "                   monitor='val_loss', \n",
    "                       patience=5, \n",
    "                       verbose=1, \n",
    "                       min_delta=0.001,\n",
    "                       mode='min',\n",
    "                       restore_best_weights=True,\n",
    "                   )]\n",
    "pruning_histories = []\n",
    "for pruning_schedule in pruning_params:\n",
    "    \n",
    "    model_prune = prune_low_magnitude(model, **pruning_schedule)\n",
    "    model_prune.compile(optimizer='adam',\n",
    "                        loss='sparse_categorical_crossentropy',\n",
    "                        metrics=['accuracy'])\n",
    "    \n",
    "    history_prune = model_prune.fit(X_train, y_train,\n",
    "                                batch_size=batch_size,\n",
    "                                epochs=prune_epochs,\n",
    "                                validation_data=(X_val, y_val),\n",
    "                                callbacks=callbacks)\n",
    "    pruning_histories.append((pruning_schedule['pruning_schedule'].final_sparsity, history_prune))"
   ]
  },
  {
   "cell_type": "code",
   "execution_count": 71,
   "metadata": {},
   "outputs": [],
   "source": [
    "def prun_ratio_vs_val_acc(histories):\n",
    "    plt.figure()\n",
    "    ys = [max(history[1].history['val_accuracy']) for history in histories]\n",
    "    xs = [history[0] for history in histories]\n",
    "    sns.scatterplot(x=xs, y=ys)\n",
    "    plt.title('Prun ratio vs val accuracy')\n",
    "    plt.xlabel('Prun ratio')\n",
    "    plt.ylabel('Val accuracy')    "
   ]
  },
  {
   "cell_type": "code",
   "execution_count": 72,
   "metadata": {},
   "outputs": [
    {
     "data": {
      "image/png": "[encoded data removed]",
      "text/plain": [
       "<Figure size 432x288 with 1 Axes>"
      ]
     },
     "metadata": {
      "needs_background": "light"
     },
     "output_type": "display_data"
    }
   ],
   "source": [
    "%matplotlib inline\n",
    "prun_ratio_vs_val_acc(pruning_histories)"
   ]
  },
  {
   "cell_type": "markdown",
   "metadata": {},
   "source": [
    "# Wyślij rozwiązanie\n",
    "Możesz skorzystać z jednego z poniższych sposobów:\n",
    "**mailem na specjalny adres** ze strony pracy domowej w panelu programu prześlij jedno z poniższych:\n",
    "- notebooka (jeżeli plik ma mniej niż np. 10MB)\n",
    "- notebooka w zipie\n",
    "- link do Colaba (udostępniony)\n",
    "- link do pliku przez GDrive/Dropboxa/WeTransfer/...\n",
    "- pdfa (poprzez download as pdf)\n",
    "- jako plik w repozytorium na np. GitHubie, by budować swoje portfolio (wtedy uważaj na wielkość pliku, najlepiej kilka MB, Max 25MB)\n",
    "\n",
    "Najlepiej, by w notebooku było widać wyniki uruchomienia komórek, chyba, że przez nie plik będzie mieć 100+MB wtedy najlepiej Colab lub jakieś przemyślenie co poszło nie tak (zbyt dużo dużych zdjęć wyświetlonych w komórkach).\n",
    "\n",
    "## Co otrzymasz?\n",
    "Informację zwrotną z ewentualnymi sugestiami, komentarzami."
   ]
  }
 ],
 "metadata": {
  "kernelspec": {
   "display_name": "Python 3",
   "language": "python",
   "name": "python3"
  },
  "language_info": {
   "codemirror_mode": {
    "name": "ipython",
    "version": 3
   },
   "file_extension": ".py",
   "mimetype": "text/x-python",
   "name": "python",
   "nbconvert_exporter": "python",
   "pygments_lexer": "ipython3",
   "version": "3.7.11"
  }
 },
 "nbformat": 4,
 "nbformat_minor": 4
}
